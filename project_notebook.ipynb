{
 "cells": [
  {
   "cell_type": "markdown",
   "metadata": {},
   "source": [
    "### Project on A/B testing by Mikhail Mussel\n",
    "\n",
    "Hi, today I'll assume a role of an analyst at a big online store. Together with the marketing\n",
    "department, I've compiled a list of hypotheses that may help boost\n",
    "revenue.\n",
    "\n",
    "I'll prioritize these hypotheses, launch an A/B test, and analyze the\n",
    "results."
   ]
  },
  {
   "cell_type": "markdown",
   "metadata": {},
   "source": [
    "#### Description of the data\n",
    "\n",
    "**Data used in the first part of the project**\n",
    "\n",
    "*Hypotheses:*\n",
    "\n",
    "- Hypotheses — brief descriptions of the hypotheses\n",
    "- Reach — user reach, on a scale of one to ten\n",
    "- Impact — impact on users, on a scale of one to ten\n",
    "- Confidence — confidence in the hypothesis, on a scale of one to ten\n",
    "- Effort — the resources required to test a hypothesis, on a scale of one to ten. The higher the Effort value, the more resource-intensive the test."
   ]
  },
  {
   "cell_type": "markdown",
   "metadata": {},
   "source": [
    "**Data used in the second part of the project**\n",
    "\n",
    "*Orders*\n",
    "\n",
    "- transactionId — order identifier\n",
    "- visitorId — identifier of the user who placed the order\n",
    "- date — of the order\n",
    "- revenue — from the order \n",
    "- group — the A/B test group that the user belongs to\n",
    "\n",
    "*Visits*\n",
    "\n",
    "- date — date\n",
    "- group — A/B test group\n",
    "- visits — the number of visits on the date specified in the A/B test group specified\n"
   ]
  },
  {
   "cell_type": "markdown",
   "metadata": {},
   "source": [
    "#### Loading the data"
   ]
  },
  {
   "cell_type": "code",
   "execution_count": 1,
   "metadata": {},
   "outputs": [],
   "source": [
    "# importing libraries\n",
    "\n",
    "import pandas as pd\n",
    "import numpy as np\n",
    "import matplotlib.pyplot as plt\n",
    "import seaborn as sns\n",
    "from matplotlib import pyplot\n",
    "import math\n",
    "from scipy import stats\n",
    "from statsmodels.stats.proportion import proportions_ztest\n",
    "import warnings\n",
    "warnings.filterwarnings(\"ignore\")"
   ]
  },
  {
   "cell_type": "code",
   "execution_count": 2,
   "metadata": {},
   "outputs": [],
   "source": [
    "#loading datasets\n",
    "\n",
    "try:\n",
    "    orders = pd.read_csv('/datasets/orders_us.csv')\n",
    "    visits = pd.read_csv('/datasets/visits_us.csv')\n",
    "    hypotheses = pd.read_csv('/datasets/hypotheses_us.csv', sep=';')\n",
    "except:\n",
    "    orders = pd.read_csv('orders_us.csv')\n",
    "    visits = pd.read_csv('visits_us.csv')\n",
    "    hypotheses = pd.read_csv('hypotheses_us.csv', sep=';')"
   ]
  },
  {
   "cell_type": "code",
   "execution_count": 3,
   "metadata": {},
   "outputs": [],
   "source": [
    "# fixing columns\n",
    "\n",
    "pd.set_option('display.max_colwidth', None)\n",
    "hypotheses.columns = hypotheses.columns.str.lower()\n",
    "orders.columns = orders.columns.str.lower()\n",
    "visits.columns = visits.columns.str.lower()"
   ]
  },
  {
   "cell_type": "code",
   "execution_count": 4,
   "metadata": {},
   "outputs": [
    {
     "data": {
      "text/html": [
       "<div>\n",
       "<style scoped>\n",
       "    .dataframe tbody tr th:only-of-type {\n",
       "        vertical-align: middle;\n",
       "    }\n",
       "\n",
       "    .dataframe tbody tr th {\n",
       "        vertical-align: top;\n",
       "    }\n",
       "\n",
       "    .dataframe thead th {\n",
       "        text-align: right;\n",
       "    }\n",
       "</style>\n",
       "<table border=\"1\" class=\"dataframe\">\n",
       "  <thead>\n",
       "    <tr style=\"text-align: right;\">\n",
       "      <th></th>\n",
       "      <th>hypothesis</th>\n",
       "      <th>reach</th>\n",
       "      <th>impact</th>\n",
       "      <th>confidence</th>\n",
       "      <th>effort</th>\n",
       "    </tr>\n",
       "  </thead>\n",
       "  <tbody>\n",
       "    <tr>\n",
       "      <th>0</th>\n",
       "      <td>Add two new channels for attracting traffic. This will bring 30% more users</td>\n",
       "      <td>3</td>\n",
       "      <td>10</td>\n",
       "      <td>8</td>\n",
       "      <td>6</td>\n",
       "    </tr>\n",
       "    <tr>\n",
       "      <th>1</th>\n",
       "      <td>Launch your own delivery service. This will shorten delivery time</td>\n",
       "      <td>2</td>\n",
       "      <td>5</td>\n",
       "      <td>4</td>\n",
       "      <td>10</td>\n",
       "    </tr>\n",
       "    <tr>\n",
       "      <th>2</th>\n",
       "      <td>Add product recommendation blocks to the store's site. This will increase conversion and average purchase size</td>\n",
       "      <td>8</td>\n",
       "      <td>3</td>\n",
       "      <td>7</td>\n",
       "      <td>3</td>\n",
       "    </tr>\n",
       "    <tr>\n",
       "      <th>3</th>\n",
       "      <td>Change the category structure. This will increase conversion since users will find the products they want more quickly</td>\n",
       "      <td>8</td>\n",
       "      <td>3</td>\n",
       "      <td>3</td>\n",
       "      <td>8</td>\n",
       "    </tr>\n",
       "    <tr>\n",
       "      <th>4</th>\n",
       "      <td>Change the background color on the main page. This will increase user engagement</td>\n",
       "      <td>3</td>\n",
       "      <td>1</td>\n",
       "      <td>1</td>\n",
       "      <td>1</td>\n",
       "    </tr>\n",
       "    <tr>\n",
       "      <th>5</th>\n",
       "      <td>Add a customer review page. This will increase the number of orders</td>\n",
       "      <td>3</td>\n",
       "      <td>2</td>\n",
       "      <td>2</td>\n",
       "      <td>3</td>\n",
       "    </tr>\n",
       "    <tr>\n",
       "      <th>6</th>\n",
       "      <td>Show banners with current offers and sales on the main page. This will boost conversion</td>\n",
       "      <td>5</td>\n",
       "      <td>3</td>\n",
       "      <td>8</td>\n",
       "      <td>3</td>\n",
       "    </tr>\n",
       "    <tr>\n",
       "      <th>7</th>\n",
       "      <td>Add a subscription form to all the main pages. This will help you compile a mailing list</td>\n",
       "      <td>10</td>\n",
       "      <td>7</td>\n",
       "      <td>8</td>\n",
       "      <td>5</td>\n",
       "    </tr>\n",
       "    <tr>\n",
       "      <th>8</th>\n",
       "      <td>Launch a promotion that gives users discounts on their birthdays</td>\n",
       "      <td>1</td>\n",
       "      <td>9</td>\n",
       "      <td>9</td>\n",
       "      <td>5</td>\n",
       "    </tr>\n",
       "  </tbody>\n",
       "</table>\n",
       "</div>"
      ],
      "text/plain": [
       "                                                                                                               hypothesis  \\\n",
       "0                                             Add two new channels for attracting traffic. This will bring 30% more users   \n",
       "1                                                       Launch your own delivery service. This will shorten delivery time   \n",
       "2          Add product recommendation blocks to the store's site. This will increase conversion and average purchase size   \n",
       "3  Change the category structure. This will increase conversion since users will find the products they want more quickly   \n",
       "4                                        Change the background color on the main page. This will increase user engagement   \n",
       "5                                                     Add a customer review page. This will increase the number of orders   \n",
       "6                                 Show banners with current offers and sales on the main page. This will boost conversion   \n",
       "7                                Add a subscription form to all the main pages. This will help you compile a mailing list   \n",
       "8                                                        Launch a promotion that gives users discounts on their birthdays   \n",
       "\n",
       "   reach  impact  confidence  effort  \n",
       "0      3      10           8       6  \n",
       "1      2       5           4      10  \n",
       "2      8       3           7       3  \n",
       "3      8       3           3       8  \n",
       "4      3       1           1       1  \n",
       "5      3       2           2       3  \n",
       "6      5       3           8       3  \n",
       "7     10       7           8       5  \n",
       "8      1       9           9       5  "
      ]
     },
     "execution_count": 4,
     "metadata": {},
     "output_type": "execute_result"
    }
   ],
   "source": [
    "# looking at hypotheses\n",
    "\n",
    "hypotheses"
   ]
  },
  {
   "cell_type": "code",
   "execution_count": 5,
   "metadata": {},
   "outputs": [
    {
     "data": {
      "text/html": [
       "<div>\n",
       "<style scoped>\n",
       "    .dataframe tbody tr th:only-of-type {\n",
       "        vertical-align: middle;\n",
       "    }\n",
       "\n",
       "    .dataframe tbody tr th {\n",
       "        vertical-align: top;\n",
       "    }\n",
       "\n",
       "    .dataframe thead th {\n",
       "        text-align: right;\n",
       "    }\n",
       "</style>\n",
       "<table border=\"1\" class=\"dataframe\">\n",
       "  <thead>\n",
       "    <tr style=\"text-align: right;\">\n",
       "      <th></th>\n",
       "      <th>transactionid</th>\n",
       "      <th>visitorid</th>\n",
       "      <th>date</th>\n",
       "      <th>revenue</th>\n",
       "      <th>group</th>\n",
       "    </tr>\n",
       "  </thead>\n",
       "  <tbody>\n",
       "    <tr>\n",
       "      <th>0</th>\n",
       "      <td>3667963787</td>\n",
       "      <td>3312258926</td>\n",
       "      <td>2019-08-15</td>\n",
       "      <td>30.4</td>\n",
       "      <td>B</td>\n",
       "    </tr>\n",
       "    <tr>\n",
       "      <th>1</th>\n",
       "      <td>2804400009</td>\n",
       "      <td>3642806036</td>\n",
       "      <td>2019-08-15</td>\n",
       "      <td>15.2</td>\n",
       "      <td>B</td>\n",
       "    </tr>\n",
       "    <tr>\n",
       "      <th>2</th>\n",
       "      <td>2961555356</td>\n",
       "      <td>4069496402</td>\n",
       "      <td>2019-08-15</td>\n",
       "      <td>10.2</td>\n",
       "      <td>A</td>\n",
       "    </tr>\n",
       "    <tr>\n",
       "      <th>3</th>\n",
       "      <td>3797467345</td>\n",
       "      <td>1196621759</td>\n",
       "      <td>2019-08-15</td>\n",
       "      <td>155.1</td>\n",
       "      <td>B</td>\n",
       "    </tr>\n",
       "    <tr>\n",
       "      <th>4</th>\n",
       "      <td>2282983706</td>\n",
       "      <td>2322279887</td>\n",
       "      <td>2019-08-15</td>\n",
       "      <td>40.5</td>\n",
       "      <td>B</td>\n",
       "    </tr>\n",
       "  </tbody>\n",
       "</table>\n",
       "</div>"
      ],
      "text/plain": [
       "   transactionid   visitorid        date  revenue group\n",
       "0     3667963787  3312258926  2019-08-15     30.4     B\n",
       "1     2804400009  3642806036  2019-08-15     15.2     B\n",
       "2     2961555356  4069496402  2019-08-15     10.2     A\n",
       "3     3797467345  1196621759  2019-08-15    155.1     B\n",
       "4     2282983706  2322279887  2019-08-15     40.5     B"
      ]
     },
     "execution_count": 5,
     "metadata": {},
     "output_type": "execute_result"
    }
   ],
   "source": [
    "# displaying orders\n",
    "\n",
    "orders.head()"
   ]
  },
  {
   "cell_type": "code",
   "execution_count": 6,
   "metadata": {},
   "outputs": [
    {
     "name": "stdout",
     "output_type": "stream",
     "text": [
      "<class 'pandas.core.frame.DataFrame'>\n",
      "RangeIndex: 1197 entries, 0 to 1196\n",
      "Data columns (total 5 columns):\n",
      " #   Column         Non-Null Count  Dtype  \n",
      "---  ------         --------------  -----  \n",
      " 0   transactionid  1197 non-null   int64  \n",
      " 1   visitorid      1197 non-null   int64  \n",
      " 2   date           1197 non-null   object \n",
      " 3   revenue        1197 non-null   float64\n",
      " 4   group          1197 non-null   object \n",
      "dtypes: float64(1), int64(2), object(2)\n",
      "memory usage: 46.9+ KB\n"
     ]
    }
   ],
   "source": [
    "orders.info()"
   ]
  },
  {
   "cell_type": "code",
   "execution_count": 7,
   "metadata": {},
   "outputs": [
    {
     "data": {
      "text/html": [
       "<div>\n",
       "<style scoped>\n",
       "    .dataframe tbody tr th:only-of-type {\n",
       "        vertical-align: middle;\n",
       "    }\n",
       "\n",
       "    .dataframe tbody tr th {\n",
       "        vertical-align: top;\n",
       "    }\n",
       "\n",
       "    .dataframe thead th {\n",
       "        text-align: right;\n",
       "    }\n",
       "</style>\n",
       "<table border=\"1\" class=\"dataframe\">\n",
       "  <thead>\n",
       "    <tr style=\"text-align: right;\">\n",
       "      <th></th>\n",
       "      <th>date</th>\n",
       "      <th>group</th>\n",
       "      <th>visits</th>\n",
       "    </tr>\n",
       "  </thead>\n",
       "  <tbody>\n",
       "    <tr>\n",
       "      <th>0</th>\n",
       "      <td>2019-08-01</td>\n",
       "      <td>A</td>\n",
       "      <td>719</td>\n",
       "    </tr>\n",
       "    <tr>\n",
       "      <th>1</th>\n",
       "      <td>2019-08-02</td>\n",
       "      <td>A</td>\n",
       "      <td>619</td>\n",
       "    </tr>\n",
       "    <tr>\n",
       "      <th>2</th>\n",
       "      <td>2019-08-03</td>\n",
       "      <td>A</td>\n",
       "      <td>507</td>\n",
       "    </tr>\n",
       "    <tr>\n",
       "      <th>3</th>\n",
       "      <td>2019-08-04</td>\n",
       "      <td>A</td>\n",
       "      <td>717</td>\n",
       "    </tr>\n",
       "    <tr>\n",
       "      <th>4</th>\n",
       "      <td>2019-08-05</td>\n",
       "      <td>A</td>\n",
       "      <td>756</td>\n",
       "    </tr>\n",
       "  </tbody>\n",
       "</table>\n",
       "</div>"
      ],
      "text/plain": [
       "         date group  visits\n",
       "0  2019-08-01     A     719\n",
       "1  2019-08-02     A     619\n",
       "2  2019-08-03     A     507\n",
       "3  2019-08-04     A     717\n",
       "4  2019-08-05     A     756"
      ]
     },
     "execution_count": 7,
     "metadata": {},
     "output_type": "execute_result"
    }
   ],
   "source": [
    "# displaying visits\n",
    "\n",
    "visits.head()"
   ]
  },
  {
   "cell_type": "code",
   "execution_count": 8,
   "metadata": {},
   "outputs": [
    {
     "name": "stdout",
     "output_type": "stream",
     "text": [
      "<class 'pandas.core.frame.DataFrame'>\n",
      "RangeIndex: 62 entries, 0 to 61\n",
      "Data columns (total 3 columns):\n",
      " #   Column  Non-Null Count  Dtype \n",
      "---  ------  --------------  ----- \n",
      " 0   date    62 non-null     object\n",
      " 1   group   62 non-null     object\n",
      " 2   visits  62 non-null     int64 \n",
      "dtypes: int64(1), object(2)\n",
      "memory usage: 1.6+ KB\n"
     ]
    }
   ],
   "source": [
    "visits.info()"
   ]
  },
  {
   "cell_type": "markdown",
   "metadata": {},
   "source": [
    "#### Preprocessing data"
   ]
  },
  {
   "cell_type": "markdown",
   "metadata": {},
   "source": [
    "We don't have missing values in any of our dataframes but there's still are some potential issues and errors. "
   ]
  },
  {
   "cell_type": "code",
   "execution_count": 9,
   "metadata": {},
   "outputs": [],
   "source": [
    "# fixing datetypes \n",
    "\n",
    "orders['date']=pd.to_datetime(orders['date'],dayfirst=True)\n",
    "visits['date']=pd.to_datetime(visits['date'],dayfirst=True)"
   ]
  },
  {
   "cell_type": "code",
   "execution_count": 10,
   "metadata": {},
   "outputs": [
    {
     "name": "stdout",
     "output_type": "stream",
     "text": [
      "2019-08-01 00:00:00\n",
      "\n",
      "2019-08-31 00:00:00\n"
     ]
    }
   ],
   "source": [
    "# checking for errors in dates for orders\n",
    "\n",
    "print(orders.date.min())\n",
    "print()\n",
    "print(orders.date.max())"
   ]
  },
  {
   "cell_type": "code",
   "execution_count": 11,
   "metadata": {},
   "outputs": [
    {
     "name": "stdout",
     "output_type": "stream",
     "text": [
      "2019-08-01 00:00:00\n",
      "\n",
      "2019-08-31 00:00:00\n"
     ]
    }
   ],
   "source": [
    "# checking for errors in dates for visits\n",
    "\n",
    "print(visits.date.min())\n",
    "print()\n",
    "print(visits.date.max())"
   ]
  },
  {
   "cell_type": "code",
   "execution_count": 12,
   "metadata": {},
   "outputs": [
    {
     "data": {
      "text/html": [
       "<div>\n",
       "<style scoped>\n",
       "    .dataframe tbody tr th:only-of-type {\n",
       "        vertical-align: middle;\n",
       "    }\n",
       "\n",
       "    .dataframe tbody tr th {\n",
       "        vertical-align: top;\n",
       "    }\n",
       "\n",
       "    .dataframe thead th {\n",
       "        text-align: right;\n",
       "    }\n",
       "</style>\n",
       "<table border=\"1\" class=\"dataframe\">\n",
       "  <thead>\n",
       "    <tr style=\"text-align: right;\">\n",
       "      <th></th>\n",
       "      <th>transactionid</th>\n",
       "      <th>visitorid</th>\n",
       "      <th>date</th>\n",
       "      <th>revenue</th>\n",
       "      <th>group</th>\n",
       "    </tr>\n",
       "  </thead>\n",
       "  <tbody>\n",
       "  </tbody>\n",
       "</table>\n",
       "</div>"
      ],
      "text/plain": [
       "Empty DataFrame\n",
       "Columns: [transactionid, visitorid, date, revenue, group]\n",
       "Index: []"
      ]
     },
     "execution_count": 12,
     "metadata": {},
     "output_type": "execute_result"
    }
   ],
   "source": [
    "# checking for negative values in orders\n",
    "\n",
    "orders[orders.revenue < 0]"
   ]
  },
  {
   "cell_type": "code",
   "execution_count": 13,
   "metadata": {},
   "outputs": [
    {
     "data": {
      "text/html": [
       "<div>\n",
       "<style scoped>\n",
       "    .dataframe tbody tr th:only-of-type {\n",
       "        vertical-align: middle;\n",
       "    }\n",
       "\n",
       "    .dataframe tbody tr th {\n",
       "        vertical-align: top;\n",
       "    }\n",
       "\n",
       "    .dataframe thead th {\n",
       "        text-align: right;\n",
       "    }\n",
       "</style>\n",
       "<table border=\"1\" class=\"dataframe\">\n",
       "  <thead>\n",
       "    <tr style=\"text-align: right;\">\n",
       "      <th></th>\n",
       "      <th>date</th>\n",
       "      <th>group</th>\n",
       "      <th>visits</th>\n",
       "    </tr>\n",
       "  </thead>\n",
       "  <tbody>\n",
       "  </tbody>\n",
       "</table>\n",
       "</div>"
      ],
      "text/plain": [
       "Empty DataFrame\n",
       "Columns: [date, group, visits]\n",
       "Index: []"
      ]
     },
     "execution_count": 13,
     "metadata": {},
     "output_type": "execute_result"
    }
   ],
   "source": [
    "# checking for negative values in visits\n",
    "\n",
    "visits[visits.visits < 0]"
   ]
  },
  {
   "cell_type": "code",
   "execution_count": 14,
   "metadata": {
    "scrolled": false
   },
   "outputs": [
    {
     "data": {
      "text/html": [
       "<div>\n",
       "<style scoped>\n",
       "    .dataframe tbody tr th:only-of-type {\n",
       "        vertical-align: middle;\n",
       "    }\n",
       "\n",
       "    .dataframe tbody tr th {\n",
       "        vertical-align: top;\n",
       "    }\n",
       "\n",
       "    .dataframe thead th {\n",
       "        text-align: right;\n",
       "    }\n",
       "</style>\n",
       "<table border=\"1\" class=\"dataframe\">\n",
       "  <thead>\n",
       "    <tr style=\"text-align: right;\">\n",
       "      <th></th>\n",
       "      <th>visitorid</th>\n",
       "      <th>group</th>\n",
       "    </tr>\n",
       "  </thead>\n",
       "  <tbody>\n",
       "    <tr>\n",
       "      <th>2</th>\n",
       "      <td>8300375</td>\n",
       "      <td>{B, A}</td>\n",
       "    </tr>\n",
       "    <tr>\n",
       "      <th>44</th>\n",
       "      <td>199603092</td>\n",
       "      <td>{B, A}</td>\n",
       "    </tr>\n",
       "    <tr>\n",
       "      <th>51</th>\n",
       "      <td>232979603</td>\n",
       "      <td>{B, A}</td>\n",
       "    </tr>\n",
       "    <tr>\n",
       "      <th>55</th>\n",
       "      <td>237748145</td>\n",
       "      <td>{B, A}</td>\n",
       "    </tr>\n",
       "    <tr>\n",
       "      <th>66</th>\n",
       "      <td>276558944</td>\n",
       "      <td>{B, A}</td>\n",
       "    </tr>\n",
       "    <tr>\n",
       "      <th>84</th>\n",
       "      <td>351125977</td>\n",
       "      <td>{B, A}</td>\n",
       "    </tr>\n",
       "    <tr>\n",
       "      <th>97</th>\n",
       "      <td>393266494</td>\n",
       "      <td>{B, A}</td>\n",
       "    </tr>\n",
       "    <tr>\n",
       "      <th>114</th>\n",
       "      <td>457167155</td>\n",
       "      <td>{B, A}</td>\n",
       "    </tr>\n",
       "    <tr>\n",
       "      <th>119</th>\n",
       "      <td>471551937</td>\n",
       "      <td>{B, A}</td>\n",
       "    </tr>\n",
       "    <tr>\n",
       "      <th>122</th>\n",
       "      <td>477780734</td>\n",
       "      <td>{B, A}</td>\n",
       "    </tr>\n",
       "    <tr>\n",
       "      <th>192</th>\n",
       "      <td>818047933</td>\n",
       "      <td>{B, A}</td>\n",
       "    </tr>\n",
       "    <tr>\n",
       "      <th>236</th>\n",
       "      <td>963407295</td>\n",
       "      <td>{B, A}</td>\n",
       "    </tr>\n",
       "    <tr>\n",
       "      <th>299</th>\n",
       "      <td>1230306981</td>\n",
       "      <td>{B, A}</td>\n",
       "    </tr>\n",
       "    <tr>\n",
       "      <th>311</th>\n",
       "      <td>1294878855</td>\n",
       "      <td>{B, A}</td>\n",
       "    </tr>\n",
       "    <tr>\n",
       "      <th>316</th>\n",
       "      <td>1316129916</td>\n",
       "      <td>{B, A}</td>\n",
       "    </tr>\n",
       "    <tr>\n",
       "      <th>318</th>\n",
       "      <td>1333886533</td>\n",
       "      <td>{B, A}</td>\n",
       "    </tr>\n",
       "    <tr>\n",
       "      <th>340</th>\n",
       "      <td>1404934699</td>\n",
       "      <td>{B, A}</td>\n",
       "    </tr>\n",
       "    <tr>\n",
       "      <th>386</th>\n",
       "      <td>1602967004</td>\n",
       "      <td>{B, A}</td>\n",
       "    </tr>\n",
       "    <tr>\n",
       "      <th>393</th>\n",
       "      <td>1614305549</td>\n",
       "      <td>{B, A}</td>\n",
       "    </tr>\n",
       "    <tr>\n",
       "      <th>402</th>\n",
       "      <td>1648269707</td>\n",
       "      <td>{B, A}</td>\n",
       "    </tr>\n",
       "    <tr>\n",
       "      <th>406</th>\n",
       "      <td>1668030113</td>\n",
       "      <td>{B, A}</td>\n",
       "    </tr>\n",
       "    <tr>\n",
       "      <th>422</th>\n",
       "      <td>1738359350</td>\n",
       "      <td>{B, A}</td>\n",
       "    </tr>\n",
       "    <tr>\n",
       "      <th>436</th>\n",
       "      <td>1801183820</td>\n",
       "      <td>{B, A}</td>\n",
       "    </tr>\n",
       "    <tr>\n",
       "      <th>469</th>\n",
       "      <td>1959144690</td>\n",
       "      <td>{B, A}</td>\n",
       "    </tr>\n",
       "    <tr>\n",
       "      <th>487</th>\n",
       "      <td>2038680547</td>\n",
       "      <td>{B, A}</td>\n",
       "    </tr>\n",
       "    <tr>\n",
       "      <th>491</th>\n",
       "      <td>2044997962</td>\n",
       "      <td>{B, A}</td>\n",
       "    </tr>\n",
       "    <tr>\n",
       "      <th>569</th>\n",
       "      <td>2378935119</td>\n",
       "      <td>{B, A}</td>\n",
       "    </tr>\n",
       "    <tr>\n",
       "      <th>591</th>\n",
       "      <td>2458001652</td>\n",
       "      <td>{B, A}</td>\n",
       "    </tr>\n",
       "    <tr>\n",
       "      <th>614</th>\n",
       "      <td>2579882178</td>\n",
       "      <td>{B, A}</td>\n",
       "    </tr>\n",
       "    <tr>\n",
       "      <th>619</th>\n",
       "      <td>2587333274</td>\n",
       "      <td>{B, A}</td>\n",
       "    </tr>\n",
       "    <tr>\n",
       "      <th>622</th>\n",
       "      <td>2600415354</td>\n",
       "      <td>{B, A}</td>\n",
       "    </tr>\n",
       "    <tr>\n",
       "      <th>639</th>\n",
       "      <td>2654030115</td>\n",
       "      <td>{B, A}</td>\n",
       "    </tr>\n",
       "    <tr>\n",
       "      <th>648</th>\n",
       "      <td>2686716486</td>\n",
       "      <td>{B, A}</td>\n",
       "    </tr>\n",
       "    <tr>\n",
       "      <th>661</th>\n",
       "      <td>2712142231</td>\n",
       "      <td>{B, A}</td>\n",
       "    </tr>\n",
       "    <tr>\n",
       "      <th>662</th>\n",
       "      <td>2716752286</td>\n",
       "      <td>{B, A}</td>\n",
       "    </tr>\n",
       "    <tr>\n",
       "      <th>677</th>\n",
       "      <td>2780786433</td>\n",
       "      <td>{B, A}</td>\n",
       "    </tr>\n",
       "    <tr>\n",
       "      <th>710</th>\n",
       "      <td>2927087541</td>\n",
       "      <td>{B, A}</td>\n",
       "    </tr>\n",
       "    <tr>\n",
       "      <th>715</th>\n",
       "      <td>2949041841</td>\n",
       "      <td>{B, A}</td>\n",
       "    </tr>\n",
       "    <tr>\n",
       "      <th>718</th>\n",
       "      <td>2954449915</td>\n",
       "      <td>{B, A}</td>\n",
       "    </tr>\n",
       "    <tr>\n",
       "      <th>744</th>\n",
       "      <td>3062433592</td>\n",
       "      <td>{B, A}</td>\n",
       "    </tr>\n",
       "    <tr>\n",
       "      <th>784</th>\n",
       "      <td>3202540741</td>\n",
       "      <td>{B, A}</td>\n",
       "    </tr>\n",
       "    <tr>\n",
       "      <th>792</th>\n",
       "      <td>3234906277</td>\n",
       "      <td>{B, A}</td>\n",
       "    </tr>\n",
       "    <tr>\n",
       "      <th>884</th>\n",
       "      <td>3656415546</td>\n",
       "      <td>{B, A}</td>\n",
       "    </tr>\n",
       "    <tr>\n",
       "      <th>897</th>\n",
       "      <td>3717692402</td>\n",
       "      <td>{B, A}</td>\n",
       "    </tr>\n",
       "    <tr>\n",
       "      <th>909</th>\n",
       "      <td>3766097110</td>\n",
       "      <td>{B, A}</td>\n",
       "    </tr>\n",
       "    <tr>\n",
       "      <th>917</th>\n",
       "      <td>3803269165</td>\n",
       "      <td>{B, A}</td>\n",
       "    </tr>\n",
       "    <tr>\n",
       "      <th>932</th>\n",
       "      <td>3891541246</td>\n",
       "      <td>{B, A}</td>\n",
       "    </tr>\n",
       "    <tr>\n",
       "      <th>950</th>\n",
       "      <td>3941795274</td>\n",
       "      <td>{B, A}</td>\n",
       "    </tr>\n",
       "    <tr>\n",
       "      <th>954</th>\n",
       "      <td>3951559397</td>\n",
       "      <td>{B, A}</td>\n",
       "    </tr>\n",
       "    <tr>\n",
       "      <th>957</th>\n",
       "      <td>3957174400</td>\n",
       "      <td>{B, A}</td>\n",
       "    </tr>\n",
       "    <tr>\n",
       "      <th>958</th>\n",
       "      <td>3963646447</td>\n",
       "      <td>{B, A}</td>\n",
       "    </tr>\n",
       "    <tr>\n",
       "      <th>960</th>\n",
       "      <td>3972127743</td>\n",
       "      <td>{B, A}</td>\n",
       "    </tr>\n",
       "    <tr>\n",
       "      <th>963</th>\n",
       "      <td>3984495233</td>\n",
       "      <td>{B, A}</td>\n",
       "    </tr>\n",
       "    <tr>\n",
       "      <th>984</th>\n",
       "      <td>4069496402</td>\n",
       "      <td>{B, A}</td>\n",
       "    </tr>\n",
       "    <tr>\n",
       "      <th>992</th>\n",
       "      <td>4120364173</td>\n",
       "      <td>{B, A}</td>\n",
       "    </tr>\n",
       "    <tr>\n",
       "      <th>1009</th>\n",
       "      <td>4186807279</td>\n",
       "      <td>{B, A}</td>\n",
       "    </tr>\n",
       "    <tr>\n",
       "      <th>1023</th>\n",
       "      <td>4256040402</td>\n",
       "      <td>{B, A}</td>\n",
       "    </tr>\n",
       "    <tr>\n",
       "      <th>1026</th>\n",
       "      <td>4266935830</td>\n",
       "      <td>{B, A}</td>\n",
       "    </tr>\n",
       "  </tbody>\n",
       "</table>\n",
       "</div>"
      ],
      "text/plain": [
       "       visitorid   group\n",
       "2        8300375  {B, A}\n",
       "44     199603092  {B, A}\n",
       "51     232979603  {B, A}\n",
       "55     237748145  {B, A}\n",
       "66     276558944  {B, A}\n",
       "84     351125977  {B, A}\n",
       "97     393266494  {B, A}\n",
       "114    457167155  {B, A}\n",
       "119    471551937  {B, A}\n",
       "122    477780734  {B, A}\n",
       "192    818047933  {B, A}\n",
       "236    963407295  {B, A}\n",
       "299   1230306981  {B, A}\n",
       "311   1294878855  {B, A}\n",
       "316   1316129916  {B, A}\n",
       "318   1333886533  {B, A}\n",
       "340   1404934699  {B, A}\n",
       "386   1602967004  {B, A}\n",
       "393   1614305549  {B, A}\n",
       "402   1648269707  {B, A}\n",
       "406   1668030113  {B, A}\n",
       "422   1738359350  {B, A}\n",
       "436   1801183820  {B, A}\n",
       "469   1959144690  {B, A}\n",
       "487   2038680547  {B, A}\n",
       "491   2044997962  {B, A}\n",
       "569   2378935119  {B, A}\n",
       "591   2458001652  {B, A}\n",
       "614   2579882178  {B, A}\n",
       "619   2587333274  {B, A}\n",
       "622   2600415354  {B, A}\n",
       "639   2654030115  {B, A}\n",
       "648   2686716486  {B, A}\n",
       "661   2712142231  {B, A}\n",
       "662   2716752286  {B, A}\n",
       "677   2780786433  {B, A}\n",
       "710   2927087541  {B, A}\n",
       "715   2949041841  {B, A}\n",
       "718   2954449915  {B, A}\n",
       "744   3062433592  {B, A}\n",
       "784   3202540741  {B, A}\n",
       "792   3234906277  {B, A}\n",
       "884   3656415546  {B, A}\n",
       "897   3717692402  {B, A}\n",
       "909   3766097110  {B, A}\n",
       "917   3803269165  {B, A}\n",
       "932   3891541246  {B, A}\n",
       "950   3941795274  {B, A}\n",
       "954   3951559397  {B, A}\n",
       "957   3957174400  {B, A}\n",
       "958   3963646447  {B, A}\n",
       "960   3972127743  {B, A}\n",
       "963   3984495233  {B, A}\n",
       "984   4069496402  {B, A}\n",
       "992   4120364173  {B, A}\n",
       "1009  4186807279  {B, A}\n",
       "1023  4256040402  {B, A}\n",
       "1026  4266935830  {B, A}"
      ]
     },
     "execution_count": 14,
     "metadata": {},
     "output_type": "execute_result"
    }
   ],
   "source": [
    "# checking for users in both groups\n",
    "\n",
    "users_in_both_groups = orders.groupby('visitorid')['group'].apply(set).reset_index()\n",
    "users_in_both_groups = users_in_both_groups[users_in_both_groups['group'].apply(len) > 1]\n",
    "users_in_both_groups"
   ]
  },
  {
   "cell_type": "code",
   "execution_count": 15,
   "metadata": {},
   "outputs": [],
   "source": [
    "# dropping duplicated rows\n",
    "\n",
    "orders_clean = orders.drop_duplicates(subset='visitorid', keep=False)"
   ]
  },
  {
   "cell_type": "code",
   "execution_count": 16,
   "metadata": {},
   "outputs": [
    {
     "name": "stdout",
     "output_type": "stream",
     "text": [
      "<class 'pandas.core.frame.DataFrame'>\n",
      "Int64Index: 937 entries, 0 to 1196\n",
      "Data columns (total 5 columns):\n",
      " #   Column         Non-Null Count  Dtype         \n",
      "---  ------         --------------  -----         \n",
      " 0   transactionid  937 non-null    int64         \n",
      " 1   visitorid      937 non-null    int64         \n",
      " 2   date           937 non-null    datetime64[ns]\n",
      " 3   revenue        937 non-null    float64       \n",
      " 4   group          937 non-null    object        \n",
      "dtypes: datetime64[ns](1), float64(1), int64(2), object(1)\n",
      "memory usage: 43.9+ KB\n"
     ]
    }
   ],
   "source": [
    "orders_clean.info()"
   ]
  },
  {
   "cell_type": "markdown",
   "metadata": {},
   "source": [
    "#### Prioritizing Hypotheses"
   ]
  },
  {
   "cell_type": "markdown",
   "metadata": {},
   "source": [
    "We'll start with ICE framework prioritizing and sorting our hypotheses in descending order to determine highest Impact, Confidence and Effort.\n",
    "\n",
    "Then we'll do the same but with RICE framework and display that as well. \n",
    "\n",
    "To conclude this task we'll compare both results and analyze changes in prioritization in both methods."
   ]
  },
  {
   "cell_type": "code",
   "execution_count": 17,
   "metadata": {},
   "outputs": [
    {
     "data": {
      "text/html": [
       "<div>\n",
       "<style scoped>\n",
       "    .dataframe tbody tr th:only-of-type {\n",
       "        vertical-align: middle;\n",
       "    }\n",
       "\n",
       "    .dataframe tbody tr th {\n",
       "        vertical-align: top;\n",
       "    }\n",
       "\n",
       "    .dataframe thead th {\n",
       "        text-align: right;\n",
       "    }\n",
       "</style>\n",
       "<table border=\"1\" class=\"dataframe\">\n",
       "  <thead>\n",
       "    <tr style=\"text-align: right;\">\n",
       "      <th></th>\n",
       "      <th>hypothesis</th>\n",
       "      <th>reach</th>\n",
       "      <th>impact</th>\n",
       "      <th>confidence</th>\n",
       "      <th>effort</th>\n",
       "      <th>ICE</th>\n",
       "    </tr>\n",
       "  </thead>\n",
       "  <tbody>\n",
       "    <tr>\n",
       "      <th>8</th>\n",
       "      <td>Launch a promotion that gives users discounts on their birthdays</td>\n",
       "      <td>1</td>\n",
       "      <td>9</td>\n",
       "      <td>9</td>\n",
       "      <td>5</td>\n",
       "      <td>16.200000</td>\n",
       "    </tr>\n",
       "    <tr>\n",
       "      <th>0</th>\n",
       "      <td>Add two new channels for attracting traffic. This will bring 30% more users</td>\n",
       "      <td>3</td>\n",
       "      <td>10</td>\n",
       "      <td>8</td>\n",
       "      <td>6</td>\n",
       "      <td>13.333333</td>\n",
       "    </tr>\n",
       "    <tr>\n",
       "      <th>7</th>\n",
       "      <td>Add a subscription form to all the main pages. This will help you compile a mailing list</td>\n",
       "      <td>10</td>\n",
       "      <td>7</td>\n",
       "      <td>8</td>\n",
       "      <td>5</td>\n",
       "      <td>11.200000</td>\n",
       "    </tr>\n",
       "    <tr>\n",
       "      <th>6</th>\n",
       "      <td>Show banners with current offers and sales on the main page. This will boost conversion</td>\n",
       "      <td>5</td>\n",
       "      <td>3</td>\n",
       "      <td>8</td>\n",
       "      <td>3</td>\n",
       "      <td>8.000000</td>\n",
       "    </tr>\n",
       "    <tr>\n",
       "      <th>2</th>\n",
       "      <td>Add product recommendation blocks to the store's site. This will increase conversion and average purchase size</td>\n",
       "      <td>8</td>\n",
       "      <td>3</td>\n",
       "      <td>7</td>\n",
       "      <td>3</td>\n",
       "      <td>7.000000</td>\n",
       "    </tr>\n",
       "    <tr>\n",
       "      <th>1</th>\n",
       "      <td>Launch your own delivery service. This will shorten delivery time</td>\n",
       "      <td>2</td>\n",
       "      <td>5</td>\n",
       "      <td>4</td>\n",
       "      <td>10</td>\n",
       "      <td>2.000000</td>\n",
       "    </tr>\n",
       "    <tr>\n",
       "      <th>5</th>\n",
       "      <td>Add a customer review page. This will increase the number of orders</td>\n",
       "      <td>3</td>\n",
       "      <td>2</td>\n",
       "      <td>2</td>\n",
       "      <td>3</td>\n",
       "      <td>1.333333</td>\n",
       "    </tr>\n",
       "    <tr>\n",
       "      <th>3</th>\n",
       "      <td>Change the category structure. This will increase conversion since users will find the products they want more quickly</td>\n",
       "      <td>8</td>\n",
       "      <td>3</td>\n",
       "      <td>3</td>\n",
       "      <td>8</td>\n",
       "      <td>1.125000</td>\n",
       "    </tr>\n",
       "    <tr>\n",
       "      <th>4</th>\n",
       "      <td>Change the background color on the main page. This will increase user engagement</td>\n",
       "      <td>3</td>\n",
       "      <td>1</td>\n",
       "      <td>1</td>\n",
       "      <td>1</td>\n",
       "      <td>1.000000</td>\n",
       "    </tr>\n",
       "  </tbody>\n",
       "</table>\n",
       "</div>"
      ],
      "text/plain": [
       "                                                                                                               hypothesis  \\\n",
       "8                                                        Launch a promotion that gives users discounts on their birthdays   \n",
       "0                                             Add two new channels for attracting traffic. This will bring 30% more users   \n",
       "7                                Add a subscription form to all the main pages. This will help you compile a mailing list   \n",
       "6                                 Show banners with current offers and sales on the main page. This will boost conversion   \n",
       "2          Add product recommendation blocks to the store's site. This will increase conversion and average purchase size   \n",
       "1                                                       Launch your own delivery service. This will shorten delivery time   \n",
       "5                                                     Add a customer review page. This will increase the number of orders   \n",
       "3  Change the category structure. This will increase conversion since users will find the products they want more quickly   \n",
       "4                                        Change the background color on the main page. This will increase user engagement   \n",
       "\n",
       "   reach  impact  confidence  effort        ICE  \n",
       "8      1       9           9       5  16.200000  \n",
       "0      3      10           8       6  13.333333  \n",
       "7     10       7           8       5  11.200000  \n",
       "6      5       3           8       3   8.000000  \n",
       "2      8       3           7       3   7.000000  \n",
       "1      2       5           4      10   2.000000  \n",
       "5      3       2           2       3   1.333333  \n",
       "3      8       3           3       8   1.125000  \n",
       "4      3       1           1       1   1.000000  "
      ]
     },
     "execution_count": 17,
     "metadata": {},
     "output_type": "execute_result"
    }
   ],
   "source": [
    "# calculating ICE score\n",
    "\n",
    "hypotheses['ICE'] = (hypotheses['impact'] * hypotheses['confidence']) / hypotheses['effort']\n",
    "\n",
    "# sorting hypotheses based on ICE score\n",
    "\n",
    "ice_sorted = hypotheses.sort_values(by='ICE', ascending=False)\n",
    "ice_sorted"
   ]
  },
  {
   "cell_type": "code",
   "execution_count": 18,
   "metadata": {},
   "outputs": [
    {
     "data": {
      "text/html": [
       "<div>\n",
       "<style scoped>\n",
       "    .dataframe tbody tr th:only-of-type {\n",
       "        vertical-align: middle;\n",
       "    }\n",
       "\n",
       "    .dataframe tbody tr th {\n",
       "        vertical-align: top;\n",
       "    }\n",
       "\n",
       "    .dataframe thead th {\n",
       "        text-align: right;\n",
       "    }\n",
       "</style>\n",
       "<table border=\"1\" class=\"dataframe\">\n",
       "  <thead>\n",
       "    <tr style=\"text-align: right;\">\n",
       "      <th></th>\n",
       "      <th>hypothesis</th>\n",
       "      <th>reach</th>\n",
       "      <th>impact</th>\n",
       "      <th>confidence</th>\n",
       "      <th>effort</th>\n",
       "      <th>ICE</th>\n",
       "      <th>RICE</th>\n",
       "    </tr>\n",
       "  </thead>\n",
       "  <tbody>\n",
       "    <tr>\n",
       "      <th>7</th>\n",
       "      <td>Add a subscription form to all the main pages. This will help you compile a mailing list</td>\n",
       "      <td>10</td>\n",
       "      <td>7</td>\n",
       "      <td>8</td>\n",
       "      <td>5</td>\n",
       "      <td>11.200000</td>\n",
       "      <td>112.0</td>\n",
       "    </tr>\n",
       "    <tr>\n",
       "      <th>2</th>\n",
       "      <td>Add product recommendation blocks to the store's site. This will increase conversion and average purchase size</td>\n",
       "      <td>8</td>\n",
       "      <td>3</td>\n",
       "      <td>7</td>\n",
       "      <td>3</td>\n",
       "      <td>7.000000</td>\n",
       "      <td>56.0</td>\n",
       "    </tr>\n",
       "    <tr>\n",
       "      <th>0</th>\n",
       "      <td>Add two new channels for attracting traffic. This will bring 30% more users</td>\n",
       "      <td>3</td>\n",
       "      <td>10</td>\n",
       "      <td>8</td>\n",
       "      <td>6</td>\n",
       "      <td>13.333333</td>\n",
       "      <td>40.0</td>\n",
       "    </tr>\n",
       "    <tr>\n",
       "      <th>6</th>\n",
       "      <td>Show banners with current offers and sales on the main page. This will boost conversion</td>\n",
       "      <td>5</td>\n",
       "      <td>3</td>\n",
       "      <td>8</td>\n",
       "      <td>3</td>\n",
       "      <td>8.000000</td>\n",
       "      <td>40.0</td>\n",
       "    </tr>\n",
       "    <tr>\n",
       "      <th>8</th>\n",
       "      <td>Launch a promotion that gives users discounts on their birthdays</td>\n",
       "      <td>1</td>\n",
       "      <td>9</td>\n",
       "      <td>9</td>\n",
       "      <td>5</td>\n",
       "      <td>16.200000</td>\n",
       "      <td>16.2</td>\n",
       "    </tr>\n",
       "    <tr>\n",
       "      <th>3</th>\n",
       "      <td>Change the category structure. This will increase conversion since users will find the products they want more quickly</td>\n",
       "      <td>8</td>\n",
       "      <td>3</td>\n",
       "      <td>3</td>\n",
       "      <td>8</td>\n",
       "      <td>1.125000</td>\n",
       "      <td>9.0</td>\n",
       "    </tr>\n",
       "    <tr>\n",
       "      <th>1</th>\n",
       "      <td>Launch your own delivery service. This will shorten delivery time</td>\n",
       "      <td>2</td>\n",
       "      <td>5</td>\n",
       "      <td>4</td>\n",
       "      <td>10</td>\n",
       "      <td>2.000000</td>\n",
       "      <td>4.0</td>\n",
       "    </tr>\n",
       "    <tr>\n",
       "      <th>5</th>\n",
       "      <td>Add a customer review page. This will increase the number of orders</td>\n",
       "      <td>3</td>\n",
       "      <td>2</td>\n",
       "      <td>2</td>\n",
       "      <td>3</td>\n",
       "      <td>1.333333</td>\n",
       "      <td>4.0</td>\n",
       "    </tr>\n",
       "    <tr>\n",
       "      <th>4</th>\n",
       "      <td>Change the background color on the main page. This will increase user engagement</td>\n",
       "      <td>3</td>\n",
       "      <td>1</td>\n",
       "      <td>1</td>\n",
       "      <td>1</td>\n",
       "      <td>1.000000</td>\n",
       "      <td>3.0</td>\n",
       "    </tr>\n",
       "  </tbody>\n",
       "</table>\n",
       "</div>"
      ],
      "text/plain": [
       "                                                                                                               hypothesis  \\\n",
       "7                                Add a subscription form to all the main pages. This will help you compile a mailing list   \n",
       "2          Add product recommendation blocks to the store's site. This will increase conversion and average purchase size   \n",
       "0                                             Add two new channels for attracting traffic. This will bring 30% more users   \n",
       "6                                 Show banners with current offers and sales on the main page. This will boost conversion   \n",
       "8                                                        Launch a promotion that gives users discounts on their birthdays   \n",
       "3  Change the category structure. This will increase conversion since users will find the products they want more quickly   \n",
       "1                                                       Launch your own delivery service. This will shorten delivery time   \n",
       "5                                                     Add a customer review page. This will increase the number of orders   \n",
       "4                                        Change the background color on the main page. This will increase user engagement   \n",
       "\n",
       "   reach  impact  confidence  effort        ICE   RICE  \n",
       "7     10       7           8       5  11.200000  112.0  \n",
       "2      8       3           7       3   7.000000   56.0  \n",
       "0      3      10           8       6  13.333333   40.0  \n",
       "6      5       3           8       3   8.000000   40.0  \n",
       "8      1       9           9       5  16.200000   16.2  \n",
       "3      8       3           3       8   1.125000    9.0  \n",
       "1      2       5           4      10   2.000000    4.0  \n",
       "5      3       2           2       3   1.333333    4.0  \n",
       "4      3       1           1       1   1.000000    3.0  "
      ]
     },
     "execution_count": 18,
     "metadata": {},
     "output_type": "execute_result"
    }
   ],
   "source": [
    "# calculating RICE score\n",
    "\n",
    "hypotheses['RICE'] = (hypotheses['reach'] * hypotheses['impact'] * hypotheses['confidence']) / hypotheses['effort']\n",
    "\n",
    "# sorting hypotheses based on RICE score\n",
    "\n",
    "rice_sorted = hypotheses.sort_values(by='RICE', ascending=False)\n",
    "rice_sorted"
   ]
  },
  {
   "cell_type": "markdown",
   "metadata": {},
   "source": [
    "Let's start off with observing the things of lowest importance that didn't change for both frameworks. We see that our bottom 4 hypotheses only traded places between each other. This shouldn't surprise us given the low scores. We can ignore those hypothses in our analysis for now.\n",
    "\n",
    "Higher scores are a different story however since things shifted significantly  here. Top hypothesis in ICE is now least prioritized between top ones in RICE. That happened due to that hypothesis having low Reach score which is significant in RICE but not in ICE."
   ]
  },
  {
   "cell_type": "markdown",
   "metadata": {},
   "source": [
    "####  A/B Test Analysis"
   ]
  },
  {
   "cell_type": "markdown",
   "metadata": {},
   "source": [
    "##### Graph cumulative revenue by group. Make conclusions and conjectures."
   ]
  },
  {
   "cell_type": "markdown",
   "metadata": {},
   "source": [
    "We can calculate the cumulative revenue on the whole dataframe and separate our groups with indexing."
   ]
  },
  {
   "cell_type": "code",
   "execution_count": 19,
   "metadata": {},
   "outputs": [
    {
     "data": {
      "text/html": [
       "<div>\n",
       "<style scoped>\n",
       "    .dataframe tbody tr th:only-of-type {\n",
       "        vertical-align: middle;\n",
       "    }\n",
       "\n",
       "    .dataframe tbody tr th {\n",
       "        vertical-align: top;\n",
       "    }\n",
       "\n",
       "    .dataframe thead th {\n",
       "        text-align: right;\n",
       "    }\n",
       "</style>\n",
       "<table border=\"1\" class=\"dataframe\">\n",
       "  <thead>\n",
       "    <tr style=\"text-align: right;\">\n",
       "      <th></th>\n",
       "      <th>transactionid</th>\n",
       "      <th>visitorid</th>\n",
       "      <th>date</th>\n",
       "      <th>revenue</th>\n",
       "      <th>group</th>\n",
       "      <th>cumul_rev</th>\n",
       "    </tr>\n",
       "  </thead>\n",
       "  <tbody>\n",
       "    <tr>\n",
       "      <th>0</th>\n",
       "      <td>3667963787</td>\n",
       "      <td>3312258926</td>\n",
       "      <td>2019-08-15</td>\n",
       "      <td>30.4</td>\n",
       "      <td>B</td>\n",
       "      <td>30.4</td>\n",
       "    </tr>\n",
       "    <tr>\n",
       "      <th>1</th>\n",
       "      <td>2804400009</td>\n",
       "      <td>3642806036</td>\n",
       "      <td>2019-08-15</td>\n",
       "      <td>15.2</td>\n",
       "      <td>B</td>\n",
       "      <td>45.6</td>\n",
       "    </tr>\n",
       "    <tr>\n",
       "      <th>3</th>\n",
       "      <td>3797467345</td>\n",
       "      <td>1196621759</td>\n",
       "      <td>2019-08-15</td>\n",
       "      <td>155.1</td>\n",
       "      <td>B</td>\n",
       "      <td>200.7</td>\n",
       "    </tr>\n",
       "    <tr>\n",
       "      <th>4</th>\n",
       "      <td>2282983706</td>\n",
       "      <td>2322279887</td>\n",
       "      <td>2019-08-15</td>\n",
       "      <td>40.5</td>\n",
       "      <td>B</td>\n",
       "      <td>241.2</td>\n",
       "    </tr>\n",
       "    <tr>\n",
       "      <th>5</th>\n",
       "      <td>182168103</td>\n",
       "      <td>935554773</td>\n",
       "      <td>2019-08-15</td>\n",
       "      <td>35.0</td>\n",
       "      <td>B</td>\n",
       "      <td>276.2</td>\n",
       "    </tr>\n",
       "  </tbody>\n",
       "</table>\n",
       "</div>"
      ],
      "text/plain": [
       "   transactionid   visitorid       date  revenue group  cumul_rev\n",
       "0     3667963787  3312258926 2019-08-15     30.4     B       30.4\n",
       "1     2804400009  3642806036 2019-08-15     15.2     B       45.6\n",
       "3     3797467345  1196621759 2019-08-15    155.1     B      200.7\n",
       "4     2282983706  2322279887 2019-08-15     40.5     B      241.2\n",
       "5      182168103   935554773 2019-08-15     35.0     B      276.2"
      ]
     },
     "execution_count": 19,
     "metadata": {},
     "output_type": "execute_result"
    }
   ],
   "source": [
    "# calculating cumulative sum\n",
    "\n",
    "orders_clean['cumul_rev'] = orders_clean['revenue'].cumsum()\n",
    "orders_clean.head()"
   ]
  },
  {
   "cell_type": "code",
   "execution_count": 20,
   "metadata": {},
   "outputs": [],
   "source": [
    "# separating groups\n",
    "\n",
    "control_clean = orders_clean[orders_clean.group == 'A']\n",
    "test_clean = orders_clean[orders_clean.group =='B']"
   ]
  },
  {
   "cell_type": "code",
   "execution_count": 21,
   "metadata": {},
   "outputs": [],
   "source": [
    "# aggregating data on orders and visitors\n",
    "\n",
    "datesGroups = orders_clean[['date','group']].drop_duplicates() \n",
    "ordersAggregated = datesGroups.apply(lambda x: orders_clean[np.logical_and(orders_clean['date'] <= x['date'], orders_clean['group'] == x['group'])].agg({'date' : 'max', 'group' : 'max', 'transactionid' : pd.Series.nunique, 'visitorid' : pd.Series.nunique, 'revenue' : 'sum'}), axis=1).sort_values(by=['date','group'])\n",
    "visitorsAggregated = datesGroups.apply(lambda x: visits[np.logical_and(visits['date'] <= x['date'], visits['group'] == x['group'])].agg({'date': 'max', 'group': 'max', 'visits': 'sum'}), axis=1).sort_values(by=['date', 'group'])"
   ]
  },
  {
   "cell_type": "code",
   "execution_count": 22,
   "metadata": {},
   "outputs": [],
   "source": [
    "# merging and renaming\n",
    "\n",
    "cumulativeData = ordersAggregated.merge(visitorsAggregated, left_on=['date', 'group'], right_on=['date', 'group'])\n",
    "cumulativeData.columns = ['date', 'group', 'orders', 'buyers', 'revenue', 'visitors']"
   ]
  },
  {
   "cell_type": "code",
   "execution_count": 23,
   "metadata": {},
   "outputs": [
    {
     "data": {
      "image/png": "[encoded data removed]",
      "text/plain": [
       "<Figure size 1080x432 with 1 Axes>"
      ]
     },
     "metadata": {
      "needs_background": "light"
     },
     "output_type": "display_data"
    }
   ],
   "source": [
    "# visualizing cumulative revenue over time\n",
    "\n",
    "plt.figure(figsize=(15, 6))\n",
    "sns.lineplot(x='date', y='revenue', hue='group', data=cumulativeData)\n",
    "plt.xlabel('Date')\n",
    "plt.ylabel('Cumulative Revenue')\n",
    "plt.title('Cumulative Revenue Over Time for Each Group')\n",
    "\n",
    "plt.show()"
   ]
  },
  {
   "cell_type": "markdown",
   "metadata": {},
   "source": [
    "We see from this graph that the Test group pulls ahead from the Control group almost immediately but keeps close up until 17th from which point group B shoots way up in a straight line which is quite unnatural.   "
   ]
  },
  {
   "cell_type": "code",
   "execution_count": 24,
   "metadata": {},
   "outputs": [
    {
     "data": {
      "image/png": "[encoded data removed]",
      "text/plain": [
       "<Figure size 1080x432 with 1 Axes>"
      ]
     },
     "metadata": {
      "needs_background": "light"
     },
     "output_type": "display_data"
    }
   ],
   "source": [
    "# visualizing general revenue per day\n",
    "\n",
    "plt.rcParams[\"figure.figsize\"] = (15,6)\n",
    "\n",
    "sns.lineplot(x='date', y='revenue', data=control_clean, label='Control')\n",
    "sns.lineplot(x='date', y='revenue', data=test_clean, label='Test')\n",
    "\n",
    "plt.title('General revenue per day')\n",
    "plt.xlabel('Date')\n",
    "plt.ylabel('Revenue')\n",
    "plt.legend()\n",
    "plt.show()"
   ]
  },
  {
   "cell_type": "markdown",
   "metadata": {},
   "source": [
    "Seems like we had a massive revenue increase in a certain time period, let's investigate further."
   ]
  },
  {
   "cell_type": "code",
   "execution_count": 25,
   "metadata": {},
   "outputs": [
    {
     "data": {
      "text/html": [
       "<div>\n",
       "<style scoped>\n",
       "    .dataframe tbody tr th:only-of-type {\n",
       "        vertical-align: middle;\n",
       "    }\n",
       "\n",
       "    .dataframe tbody tr th {\n",
       "        vertical-align: top;\n",
       "    }\n",
       "\n",
       "    .dataframe thead th {\n",
       "        text-align: right;\n",
       "    }\n",
       "</style>\n",
       "<table border=\"1\" class=\"dataframe\">\n",
       "  <thead>\n",
       "    <tr style=\"text-align: right;\">\n",
       "      <th></th>\n",
       "      <th>transactionid</th>\n",
       "      <th>visitorid</th>\n",
       "      <th>date</th>\n",
       "      <th>revenue</th>\n",
       "      <th>group</th>\n",
       "      <th>cumul_rev</th>\n",
       "    </tr>\n",
       "  </thead>\n",
       "  <tbody>\n",
       "    <tr>\n",
       "      <th>743</th>\n",
       "      <td>3603576309</td>\n",
       "      <td>4133034833</td>\n",
       "      <td>2019-08-09</td>\n",
       "      <td>1050.0</td>\n",
       "      <td>A</td>\n",
       "      <td>81065.0</td>\n",
       "    </tr>\n",
       "    <tr>\n",
       "      <th>1099</th>\n",
       "      <td>316924019</td>\n",
       "      <td>148427295</td>\n",
       "      <td>2019-08-12</td>\n",
       "      <td>1015.9</td>\n",
       "      <td>A</td>\n",
       "      <td>112397.3</td>\n",
       "    </tr>\n",
       "    <tr>\n",
       "      <th>1103</th>\n",
       "      <td>1348774318</td>\n",
       "      <td>1164614297</td>\n",
       "      <td>2019-08-12</td>\n",
       "      <td>1025.8</td>\n",
       "      <td>A</td>\n",
       "      <td>113438.3</td>\n",
       "    </tr>\n",
       "    <tr>\n",
       "      <th>1136</th>\n",
       "      <td>666610489</td>\n",
       "      <td>1307669133</td>\n",
       "      <td>2019-08-13</td>\n",
       "      <td>1425.8</td>\n",
       "      <td>A</td>\n",
       "      <td>118052.0</td>\n",
       "    </tr>\n",
       "    <tr>\n",
       "      <th>1196</th>\n",
       "      <td>3936777065</td>\n",
       "      <td>2108080724</td>\n",
       "      <td>2019-08-15</td>\n",
       "      <td>3120.1</td>\n",
       "      <td>B</td>\n",
       "      <td>124666.0</td>\n",
       "    </tr>\n",
       "    <tr>\n",
       "      <th>425</th>\n",
       "      <td>590470918</td>\n",
       "      <td>1920142716</td>\n",
       "      <td>2019-08-19</td>\n",
       "      <td>19920.4</td>\n",
       "      <td>B</td>\n",
       "      <td>50390.2</td>\n",
       "    </tr>\n",
       "    <tr>\n",
       "      <th>744</th>\n",
       "      <td>3668308183</td>\n",
       "      <td>888512513</td>\n",
       "      <td>2019-08-27</td>\n",
       "      <td>1335.6</td>\n",
       "      <td>B</td>\n",
       "      <td>82400.6</td>\n",
       "    </tr>\n",
       "  </tbody>\n",
       "</table>\n",
       "</div>"
      ],
      "text/plain": [
       "      transactionid   visitorid       date  revenue group  cumul_rev\n",
       "743      3603576309  4133034833 2019-08-09   1050.0     A    81065.0\n",
       "1099      316924019   148427295 2019-08-12   1015.9     A   112397.3\n",
       "1103     1348774318  1164614297 2019-08-12   1025.8     A   113438.3\n",
       "1136      666610489  1307669133 2019-08-13   1425.8     A   118052.0\n",
       "1196     3936777065  2108080724 2019-08-15   3120.1     B   124666.0\n",
       "425       590470918  1920142716 2019-08-19  19920.4     B    50390.2\n",
       "744      3668308183   888512513 2019-08-27   1335.6     B    82400.6"
      ]
     },
     "execution_count": 25,
     "metadata": {},
     "output_type": "execute_result"
    }
   ],
   "source": [
    "orders_clean[orders_clean.revenue > 1000].sort_values('date')"
   ]
  },
  {
   "cell_type": "markdown",
   "metadata": {},
   "source": [
    "We have only a  handful of values greater than 1000 for the revenue column which makes the 20k that much of a sore thumb. \n",
    "\n",
    "Right now it seems like an outlier in our data."
   ]
  },
  {
   "cell_type": "markdown",
   "metadata": {},
   "source": [
    "#### Graph cumulative average order size by group. Make conclusions and conjectures."
   ]
  },
  {
   "cell_type": "markdown",
   "metadata": {},
   "source": [
    "Order size is a great metric to help us identify good marketing startegy. "
   ]
  },
  {
   "cell_type": "code",
   "execution_count": 26,
   "metadata": {},
   "outputs": [
    {
     "data": {
      "image/png": "[encoded data removed]",
      "text/plain": [
       "<Figure size 1080x432 with 1 Axes>"
      ]
     },
     "metadata": {
      "needs_background": "light"
     },
     "output_type": "display_data"
    }
   ],
   "source": [
    "# visualizing cumulative order size per group\n",
    "\n",
    "grouped_orders = orders_clean.groupby('group')\n",
    "\n",
    "orders_clean['cumul_orders'] = grouped_orders.cumcount() + 1\n",
    "orders_clean['cumul_avg_order_size'] = orders_clean['cumul_rev'] / orders_clean['cumul_orders']\n",
    "\n",
    "plt.figure(figsize=(15, 6))\n",
    "sns.lineplot(x='date', y='cumul_avg_order_size', hue='group', data=orders_clean)\n",
    "\n",
    "plt.xlabel('Date')\n",
    "plt.ylabel('Cumulative Average Order Size')\n",
    "plt.title('Cumulative Average Order Size by Group')\n",
    "plt.legend(title='Group')\n",
    "plt.show()"
   ]
  },
  {
   "cell_type": "markdown",
   "metadata": {},
   "source": [
    "It's important to keep in mind that group A is the Control group and group B is the Test group. \n",
    "\n",
    "All things considered the Control group's behavior is pretty normal while the Test group experienced a dramatic spike downward mid month approximately after 13th. It did climb back up to the Control group result in the end though."
   ]
  },
  {
   "cell_type": "markdown",
   "metadata": {},
   "source": [
    "#### Graph the relative difference in cumulative average order size for group B compared with group A. Make conclusions and conjectures."
   ]
  },
  {
   "cell_type": "markdown",
   "metadata": {},
   "source": [
    "To plot the relative difference in cumulative average order size for Group B compared with Group A, we can calculate the difference in cumulative average order size between the two groups for each day and then plot this difference over time."
   ]
  },
  {
   "cell_type": "code",
   "execution_count": 27,
   "metadata": {},
   "outputs": [
    {
     "data": {
      "image/png": "[encoded data removed]",
      "text/plain": [
       "<Figure size 1080x432 with 1 Axes>"
      ]
     },
     "metadata": {
      "needs_background": "light"
     },
     "output_type": "display_data"
    }
   ],
   "source": [
    "# calculating cumulative average order size for control group\n",
    "\n",
    "control_clean['cumul_avg_order_size'] = control_clean.groupby('date')['revenue'].cumsum() / (control_clean.groupby('date').cumcount() + 1)\n",
    "control_clean['relative_difference'] = control_clean.groupby('date')['cumul_avg_order_size'].diff()\n",
    "\n",
    "# calculating cumulative average order size for test group\n",
    "\n",
    "test_clean['cumul_avg_order_size'] = test_clean.groupby('date')['revenue'].cumsum() / (test_clean.groupby('date').cumcount() + 1)\n",
    "test_clean['relative_difference'] = test_clean.groupby('date')['cumul_avg_order_size'].diff()\n",
    "\n",
    "# combining the results for plotting\n",
    "\n",
    "combined_df = pd.concat([control_clean.assign(group='control'), test_clean.assign(group='test')])\n",
    "\n",
    "# plotting the relative difference\n",
    "\n",
    "plt.figure(figsize=(15, 6))\n",
    "sns.lineplot(x='date', y='relative_difference', hue='group', data=combined_df, ci=None)\n",
    "plt.xlabel('Date')\n",
    "plt.ylabel('Relative Difference')\n",
    "plt.title('Relative Difference in Cumulative Avg. Order Size')\n",
    "plt.show()"
   ]
  },
  {
   "cell_type": "markdown",
   "metadata": {},
   "source": [
    "We can see that both groups are fairly stable for the first half of the month but things do change after 17th where our test group sees a jump in cumulative average size but goes back right away. At the end of the month we can also see a huge drop for the test group. It's really quite noticable though it's abrupt. "
   ]
  },
  {
   "cell_type": "markdown",
   "metadata": {},
   "source": [
    "#### Calculate each group's conversion rate as the ratio of orders to the number of visits for each day. Plot the daily conversion rates of the two groups and describe the difference. Draw conclusions and make conjectures"
   ]
  },
  {
   "cell_type": "code",
   "execution_count": 28,
   "metadata": {},
   "outputs": [
    {
     "data": {
      "text/html": [
       "<div>\n",
       "<style scoped>\n",
       "    .dataframe tbody tr th:only-of-type {\n",
       "        vertical-align: middle;\n",
       "    }\n",
       "\n",
       "    .dataframe tbody tr th {\n",
       "        vertical-align: top;\n",
       "    }\n",
       "\n",
       "    .dataframe thead th {\n",
       "        text-align: right;\n",
       "    }\n",
       "</style>\n",
       "<table border=\"1\" class=\"dataframe\">\n",
       "  <thead>\n",
       "    <tr style=\"text-align: right;\">\n",
       "      <th></th>\n",
       "      <th>date</th>\n",
       "      <th>group</th>\n",
       "      <th>clicks</th>\n",
       "      <th>buyers</th>\n",
       "      <th>conversion</th>\n",
       "    </tr>\n",
       "  </thead>\n",
       "  <tbody>\n",
       "    <tr>\n",
       "      <th>0</th>\n",
       "      <td>2019-08-01</td>\n",
       "      <td>A</td>\n",
       "      <td>719</td>\n",
       "      <td>24</td>\n",
       "      <td>0.033380</td>\n",
       "    </tr>\n",
       "    <tr>\n",
       "      <th>1</th>\n",
       "      <td>2019-08-01</td>\n",
       "      <td>B</td>\n",
       "      <td>713</td>\n",
       "      <td>21</td>\n",
       "      <td>0.029453</td>\n",
       "    </tr>\n",
       "    <tr>\n",
       "      <th>2</th>\n",
       "      <td>2019-08-02</td>\n",
       "      <td>A</td>\n",
       "      <td>619</td>\n",
       "      <td>20</td>\n",
       "      <td>0.032310</td>\n",
       "    </tr>\n",
       "    <tr>\n",
       "      <th>3</th>\n",
       "      <td>2019-08-02</td>\n",
       "      <td>B</td>\n",
       "      <td>581</td>\n",
       "      <td>24</td>\n",
       "      <td>0.041308</td>\n",
       "    </tr>\n",
       "    <tr>\n",
       "      <th>4</th>\n",
       "      <td>2019-08-03</td>\n",
       "      <td>A</td>\n",
       "      <td>507</td>\n",
       "      <td>24</td>\n",
       "      <td>0.047337</td>\n",
       "    </tr>\n",
       "  </tbody>\n",
       "</table>\n",
       "</div>"
      ],
      "text/plain": [
       "        date group  clicks  buyers  conversion\n",
       "0 2019-08-01     A     719      24    0.033380\n",
       "1 2019-08-01     B     713      21    0.029453\n",
       "2 2019-08-02     A     619      20    0.032310\n",
       "3 2019-08-02     B     581      24    0.041308\n",
       "4 2019-08-03     A     507      24    0.047337"
      ]
     },
     "execution_count": 28,
     "metadata": {},
     "output_type": "execute_result"
    }
   ],
   "source": [
    "# calculating clicks\n",
    "\n",
    "clicks = visits.groupby(['date', 'group'])['visits'].sum().reset_index()\n",
    "clicks.rename(columns={'visits': 'clicks'}, inplace=True)\n",
    "\n",
    "# calculating the number of orders per day and group\n",
    "\n",
    "buyers = orders.groupby(['date', 'group'])['transactionid'].nunique().reset_index()\n",
    "buyers.rename(columns={'transactionid': 'buyers'}, inplace=True)\n",
    "\n",
    "# merging the 'clicks' and 'buyers' DataFrames\n",
    "\n",
    "conversion_data = pd.merge(clicks, buyers, on=['date', 'group'], how='outer').fillna(0)\n",
    "\n",
    "# calculating conversion rate as the ratio of orders to unique visitors\n",
    "\n",
    "conversion_data['conversion'] = conversion_data['buyers'] / conversion_data['clicks']\n",
    "conversion_data.head()"
   ]
  },
  {
   "cell_type": "code",
   "execution_count": 29,
   "metadata": {},
   "outputs": [
    {
     "data": {
      "image/png": "[encoded data removed]",
      "text/plain": [
       "<Figure size 1080x432 with 1 Axes>"
      ]
     },
     "metadata": {
      "needs_background": "light"
     },
     "output_type": "display_data"
    }
   ],
   "source": [
    "# visualizing daily conversion rates\n",
    "\n",
    "avg_conversion_groupA = conversion_data[conversion_data['group'] == 'A']['conversion'].mean()\n",
    "avg_conversion_groupB = conversion_data[conversion_data['group'] == 'B']['conversion'].mean()\n",
    "\n",
    "plt.figure(figsize=(15, 6))\n",
    "sns.lineplot(x='date', y='conversion', hue='group', data=conversion_data)\n",
    "plt.axhline(y=avg_conversion_groupA, color='green', linestyle='--', label=f'Average Group A: {avg_conversion_groupA:.2f}')\n",
    "plt.axhline(y=avg_conversion_groupB, color='red', linestyle='--', label=f'Average Group B: {avg_conversion_groupB:.2f}')\n",
    "plt.xlabel('Date')\n",
    "plt.ylabel('Conversion Rate')\n",
    "plt.title('Daily Conversion Rates of the Two Groups')\n",
    "plt.legend(title='Group')\n",
    "plt.show()"
   ]
  },
  {
   "cell_type": "markdown",
   "metadata": {},
   "source": [
    "As we can see on the draph above the conversion rates for both groups are not far apart from each other. I've added an average point for both groups to make note that the test group has slightly higher conversion rate than our control group. "
   ]
  },
  {
   "cell_type": "markdown",
   "metadata": {},
   "source": [
    "#### Plot a scatter chart of the number of orders per user. Make conclusions and conjectures."
   ]
  },
  {
   "cell_type": "code",
   "execution_count": 30,
   "metadata": {},
   "outputs": [
    {
     "data": {
      "image/png": "[encoded data removed]",
      "text/plain": [
       "<Figure size 1080x432 with 1 Axes>"
      ]
     },
     "metadata": {
      "needs_background": "light"
     },
     "output_type": "display_data"
    }
   ],
   "source": [
    "# calculating the number of orders per user\n",
    "\n",
    "orders_per_user = orders.groupby('visitorid')['transactionid'].nunique().reset_index()\n",
    "orders_per_user.columns = ['visitorid', 'orders_count']\n",
    "\n",
    "# plotting a scatter chart of the number of orders per user\n",
    "\n",
    "plt.figure(figsize=(15, 6))\n",
    "sns.scatterplot(x='visitorid', y='orders_count', data=orders_per_user)\n",
    "plt.xlabel('User (visitorid)')\n",
    "plt.ylabel('Number of Orders')\n",
    "plt.title('Number of Orders per User')\n",
    "plt.show()"
   ]
  },
  {
   "cell_type": "markdown",
   "metadata": {},
   "source": [
    "It's clear that the absolute majority of our users only end up making a single order. And while we'd want our users to make more orders most people usually only purchase the things that they absolutely need and have searched for specifically and don't buy anything else."
   ]
  },
  {
   "cell_type": "markdown",
   "metadata": {},
   "source": [
    "#### Calculate the 95th and 99th percentiles for the number of orders per user. Define the point at which a data point becomes an anomaly"
   ]
  },
  {
   "cell_type": "code",
   "execution_count": 31,
   "metadata": {},
   "outputs": [
    {
     "name": "stdout",
     "output_type": "stream",
     "text": [
      "95th percentile for the number of orders per user: 2.0\n",
      "99th percentile for the number of orders per user: 4.0\n"
     ]
    }
   ],
   "source": [
    "# grouping by visitors and counting the number of unique orders per user\n",
    "\n",
    "orders_per_user = orders.groupby('visitorid')['transactionid'].nunique()\n",
    "\n",
    "# calculating the 95th and 99th percentiles for the number of orders per user\n",
    "\n",
    "percentiles_95th = np.percentile(orders_per_user, 95)\n",
    "percentiles_99th = np.percentile(orders_per_user, 99)\n",
    "\n",
    "print(\"95th percentile for the number of orders per user:\", percentiles_95th)\n",
    "print(\"99th percentile for the number of orders per user:\", percentiles_99th)"
   ]
  },
  {
   "cell_type": "code",
   "execution_count": 32,
   "metadata": {},
   "outputs": [
    {
     "data": {
      "text/plain": [
       "1     937\n",
       "2      64\n",
       "3      17\n",
       "5       6\n",
       "4       3\n",
       "11      2\n",
       "8       1\n",
       "9       1\n",
       "Name: transactionid, dtype: int64"
      ]
     },
     "execution_count": 32,
     "metadata": {},
     "output_type": "execute_result"
    }
   ],
   "source": [
    "orders_per_user.value_counts()"
   ]
  },
  {
   "cell_type": "markdown",
   "metadata": {},
   "source": [
    "My assumption as to at which point does the data point becomes an anomaly is at 8 orders per user simply because we have a gap between 5 orders and 8 which leads me to believe that those above are to be considered outliers."
   ]
  },
  {
   "cell_type": "markdown",
   "metadata": {},
   "source": [
    "#### Plot a scatter chart of order prices. Make conclusions and conjectures.\n"
   ]
  },
  {
   "cell_type": "code",
   "execution_count": 33,
   "metadata": {},
   "outputs": [
    {
     "data": {
      "image/png": "[encoded data removed]",
      "text/plain": [
       "<Figure size 1080x432 with 1 Axes>"
      ]
     },
     "metadata": {
      "needs_background": "light"
     },
     "output_type": "display_data"
    }
   ],
   "source": [
    "# plotting a scatter chart of order prices\n",
    "\n",
    "plt.figure(figsize=(15, 6))\n",
    "sns.scatterplot(x='transactionid', y='revenue', data=orders)\n",
    "plt.xlabel('Transaction ID')\n",
    "plt.ylabel('Order Price')\n",
    "plt.title('Order Prices')\n",
    "plt.show()"
   ]
  },
  {
   "cell_type": "markdown",
   "metadata": {},
   "source": [
    "It's visibly clear that the vast majority of orders do not go over 2500$ with just a single order at 20k, which is quite absurd."
   ]
  },
  {
   "cell_type": "markdown",
   "metadata": {},
   "source": [
    "####  Calculate the 95th and 99th percentiles of order prices. Define the point at which a data point becomes an anomaly."
   ]
  },
  {
   "cell_type": "code",
   "execution_count": 34,
   "metadata": {},
   "outputs": [
    {
     "name": "stdout",
     "output_type": "stream",
     "text": [
      "95th percentile of order prices: 435.54\n",
      "99th percentile of order prices: 900.9039999999999\n"
     ]
    }
   ],
   "source": [
    "percentile_95th = np.percentile(orders['revenue'], 95)\n",
    "percentile_99th = np.percentile(orders['revenue'], 99)\n",
    "\n",
    "print(\"95th percentile of order prices:\", percentile_95th)\n",
    "print(\"99th percentile of order prices:\", percentile_99th)"
   ]
  },
  {
   "cell_type": "code",
   "execution_count": 35,
   "metadata": {},
   "outputs": [
    {
     "data": {
      "text/plain": [
       "count      937.000000\n",
       "mean       133.048026\n",
       "std        673.860340\n",
       "min          5.000000\n",
       "25%         20.700000\n",
       "50%         50.100000\n",
       "75%        125.900000\n",
       "max      19920.400000\n",
       "Name: revenue, dtype: float64"
      ]
     },
     "execution_count": 35,
     "metadata": {},
     "output_type": "execute_result"
    }
   ],
   "source": [
    "orders_clean.revenue.describe()"
   ]
  },
  {
   "cell_type": "markdown",
   "metadata": {},
   "source": [
    "Clearly, the max value is where we can observe an anomaly. "
   ]
  },
  {
   "cell_type": "markdown",
   "metadata": {},
   "source": [
    "####  Find the statistical significance of the difference in conversion between the groups using the raw data. Make conclusions and conjectures."
   ]
  },
  {
   "cell_type": "markdown",
   "metadata": {},
   "source": [
    "###### Total conversion check"
   ]
  },
  {
   "cell_type": "markdown",
   "metadata": {},
   "source": [
    "For greater depth we'll find our total conversion and average daily conversion.\n",
    "\n",
    "To complete the first part of the task I'll define a function that will take number of clicks and purchases from both groups, find the p-value and compare it with the alpha value."
   ]
  },
  {
   "cell_type": "code",
   "execution_count": 36,
   "metadata": {},
   "outputs": [],
   "source": [
    "# creating a function to check the statistical significance\n",
    "\n",
    "def check_hypothesis(successes1,trials1, successes2,trials2, alpha=0.05):\n",
    "    \n",
    "    # proportion for success in the first group\n",
    "    p1 = successes1/trials1\n",
    "\n",
    "   # proportion for success in the second group\n",
    "    p2 = successes2/trials2\n",
    "    p_combined = (successes1 + successes2) / (trials1 + trials2)\n",
    "\n",
    "  \n",
    "    difference = p1 - p2\n",
    "    \n",
    "    \n",
    "    z_value = difference / math.sqrt(p_combined * (1 - p_combined) * (1/trials1 + 1/trials2))\n",
    "\n",
    "  \n",
    "    distr = stats.norm(0, 1) \n",
    "\n",
    "\n",
    "    p_value = (1 - distr.cdf(abs(z_value))) * 2\n",
    "  \n",
    "    print('p-value: ', p_value)\n",
    "    if p_value<0.05:\n",
    "        print('Reject H0')\n",
    "    else:\n",
    "        print('Failed To Reject H0')"
   ]
  },
  {
   "cell_type": "markdown",
   "metadata": {},
   "source": [
    "Now I'll define the exact values for trials and successes in our data as well as fix any errors within it."
   ]
  },
  {
   "cell_type": "code",
   "execution_count": 37,
   "metadata": {},
   "outputs": [],
   "source": [
    "# we've been working with filtered data so far, this is our raw data\n",
    "\n",
    "control_old = orders[orders.group=='A']\n",
    "test_old = orders[orders.group=='B']"
   ]
  },
  {
   "cell_type": "code",
   "execution_count": 38,
   "metadata": {},
   "outputs": [
    {
     "data": {
      "text/html": [
       "<div>\n",
       "<style scoped>\n",
       "    .dataframe tbody tr th:only-of-type {\n",
       "        vertical-align: middle;\n",
       "    }\n",
       "\n",
       "    .dataframe tbody tr th {\n",
       "        vertical-align: top;\n",
       "    }\n",
       "\n",
       "    .dataframe thead th {\n",
       "        text-align: right;\n",
       "    }\n",
       "</style>\n",
       "<table border=\"1\" class=\"dataframe\">\n",
       "  <thead>\n",
       "    <tr style=\"text-align: right;\">\n",
       "      <th></th>\n",
       "      <th>date</th>\n",
       "      <th>group</th>\n",
       "      <th>clicks</th>\n",
       "      <th>buyers</th>\n",
       "      <th>conversion</th>\n",
       "      <th>cumul_rev</th>\n",
       "    </tr>\n",
       "  </thead>\n",
       "  <tbody>\n",
       "    <tr>\n",
       "      <th>0</th>\n",
       "      <td>2019-08-01</td>\n",
       "      <td>A</td>\n",
       "      <td>719</td>\n",
       "      <td>24</td>\n",
       "      <td>0.033380</td>\n",
       "      <td>3976.8</td>\n",
       "    </tr>\n",
       "    <tr>\n",
       "      <th>1</th>\n",
       "      <td>2019-08-01</td>\n",
       "      <td>B</td>\n",
       "      <td>713</td>\n",
       "      <td>21</td>\n",
       "      <td>0.029453</td>\n",
       "      <td>3976.8</td>\n",
       "    </tr>\n",
       "    <tr>\n",
       "      <th>2</th>\n",
       "      <td>2019-08-02</td>\n",
       "      <td>A</td>\n",
       "      <td>619</td>\n",
       "      <td>20</td>\n",
       "      <td>0.032310</td>\n",
       "      <td>4127.3</td>\n",
       "    </tr>\n",
       "    <tr>\n",
       "      <th>3</th>\n",
       "      <td>2019-08-02</td>\n",
       "      <td>B</td>\n",
       "      <td>581</td>\n",
       "      <td>24</td>\n",
       "      <td>0.041308</td>\n",
       "      <td>4127.3</td>\n",
       "    </tr>\n",
       "    <tr>\n",
       "      <th>4</th>\n",
       "      <td>2019-08-03</td>\n",
       "      <td>A</td>\n",
       "      <td>507</td>\n",
       "      <td>24</td>\n",
       "      <td>0.047337</td>\n",
       "      <td>3622.0</td>\n",
       "    </tr>\n",
       "  </tbody>\n",
       "</table>\n",
       "</div>"
      ],
      "text/plain": [
       "        date group  clicks  buyers  conversion  cumul_rev\n",
       "0 2019-08-01     A     719      24    0.033380     3976.8\n",
       "1 2019-08-01     B     713      21    0.029453     3976.8\n",
       "2 2019-08-02     A     619      20    0.032310     4127.3\n",
       "3 2019-08-02     B     581      24    0.041308     4127.3\n",
       "4 2019-08-03     A     507      24    0.047337     3622.0"
      ]
     },
     "execution_count": 38,
     "metadata": {},
     "output_type": "execute_result"
    }
   ],
   "source": [
    "# calculating sum of revenue for control group\n",
    "\n",
    "control_sum = control_old.groupby('date')['revenue'].sum().reset_index()\n",
    "control_sum.rename(columns={'revenue': 'control_revenue'}, inplace=True)\n",
    "\n",
    "# calculating sum of revenue for test group \n",
    "\n",
    "test_sum = test_old.groupby('date')['revenue'].sum().reset_index()\n",
    "test_sum.rename(columns={'revenue': 'test_revenue'}, inplace=True)\n",
    "\n",
    "# merging control and test sum of revenue DataFrames with conversion data \n",
    "\n",
    "conversion_data = pd.merge(conversion_data, control_sum, on='date', how='left')\n",
    "conversion_data = pd.merge(conversion_data, test_sum, on='date', how='left')\n",
    "\n",
    "# filling missing revenue values with 0\n",
    "\n",
    "conversion_data['control_revenue'].fillna(0, inplace=True)\n",
    "conversion_data['test_revenue'].fillna(0, inplace=True)\n",
    "\n",
    "# calculating cumulative revenue for each day\n",
    "\n",
    "conversion_data['cumul_rev'] = conversion_data['control_revenue'] + conversion_data['test_revenue']\n",
    "\n",
    "# dropping redundant columns\n",
    "\n",
    "conversion_data.drop(['control_revenue', 'test_revenue'], axis=1, inplace=True)\n",
    "conversion_data.head()"
   ]
  },
  {
   "cell_type": "markdown",
   "metadata": {},
   "source": [
    "Now that we have our new dataframe we can split it by group. After that we can execute our function to find out the answer if there is a statistical significance of the difference in conversion between the groups."
   ]
  },
  {
   "cell_type": "code",
   "execution_count": 39,
   "metadata": {},
   "outputs": [],
   "source": [
    "# separating conversion data between the groups\n",
    "\n",
    "conversion_control = conversion_data[conversion_data.group=='A']\n",
    "conversion_test = conversion_data[conversion_data.group=='B']"
   ]
  },
  {
   "cell_type": "code",
   "execution_count": 40,
   "metadata": {},
   "outputs": [
    {
     "name": "stdout",
     "output_type": "stream",
     "text": [
      "Trials: 18736\n",
      "Successes: 557\n"
     ]
    }
   ],
   "source": [
    "# printing total clicks and conversions for control group\n",
    "\n",
    "control_trials=conversion_control['clicks'].sum()\n",
    "print(\"Trials:\",control_trials)\n",
    "\n",
    "control_successes=conversion_control['buyers'].sum()\n",
    "print(\"Successes:\",control_successes)"
   ]
  },
  {
   "cell_type": "code",
   "execution_count": 41,
   "metadata": {},
   "outputs": [
    {
     "name": "stdout",
     "output_type": "stream",
     "text": [
      "Trials: 18916\n",
      "Successes: 640\n"
     ]
    }
   ],
   "source": [
    "# printing total clicks and conversions for test group\n",
    "\n",
    "test_trials=conversion_test['clicks'].sum()\n",
    "print(\"Trials:\",test_trials)\n",
    "\n",
    "test_successes=conversion_test['buyers'].sum()\n",
    "print(\"Successes:\",test_successes)"
   ]
  },
  {
   "cell_type": "code",
   "execution_count": 42,
   "metadata": {},
   "outputs": [
    {
     "name": "stdout",
     "output_type": "stream",
     "text": [
      "p-value:  0.02320723394441848\n",
      "Reject H0\n"
     ]
    }
   ],
   "source": [
    "# testing hypothesis\n",
    "\n",
    "check_hypothesis(control_successes,control_trials, test_successes,test_trials, alpha=0.05)"
   ]
  },
  {
   "cell_type": "markdown",
   "metadata": {},
   "source": [
    "We rejected our null hypothesis, the p-value is lower than the alpha value so we can say that there is statistical significance in conversion difference between the groups."
   ]
  },
  {
   "cell_type": "markdown",
   "metadata": {},
   "source": [
    "##### Average daily conversion"
   ]
  },
  {
   "cell_type": "markdown",
   "metadata": {},
   "source": [
    "To archieve a broader picture we'll plot both conversions at the same time. This will help us to compare them."
   ]
  },
  {
   "cell_type": "code",
   "execution_count": 43,
   "metadata": {},
   "outputs": [
    {
     "data": {
      "image/png": "[encoded data removed]",
      "text/plain": [
       "<Figure size 1080x432 with 1 Axes>"
      ]
     },
     "metadata": {
      "needs_background": "light"
     },
     "output_type": "display_data"
    }
   ],
   "source": [
    "# plotting histograms for control and test groups\n",
    "\n",
    "plt.hist(conversion_control['conversion'], alpha=0.5, label='Control')\n",
    "plt.hist(conversion_test['conversion'], alpha=0.5, label='Test')\n",
    "\n",
    "plt.legend(loc='upper right')\n",
    "plt.title(\"Distribution of Conversion Rates\")\n",
    "plt.xlabel(\"Conversion Rate\")\n",
    "plt.ylabel(\"Frequency\")\n",
    "\n",
    "plt.show()"
   ]
  },
  {
   "cell_type": "markdown",
   "metadata": {},
   "source": [
    "There seems to be a lot more conversion in the Test group as we can see from this graph, the Control group is almost completely covered inside."
   ]
  },
  {
   "cell_type": "code",
   "execution_count": 44,
   "metadata": {},
   "outputs": [],
   "source": [
    "# creating a function to test normality\n",
    "\n",
    "def testing_average(sample1,sample2,alpha=0.05):\n",
    "    \n",
    "    #checking normality\n",
    "    sample1=sample1.dropna()\n",
    "    sample2=sample2.dropna()\n",
    "    stat1, p1_norm=stats.shapiro(sample1)\n",
    "    stat2, p2_norm=stats.shapiro(sample2)\n",
    "    if p1_norm > alpha and p2_norm>alpha:\n",
    "        #then both normal, perform t-test.\n",
    "        #for t-test also should check the equality of variances\n",
    "        statslev,p_levene=stats.levene(sample1, sample2)\n",
    "        if p_levene<alpha:\n",
    "           #variances are not equal\n",
    "            statist,p_value=stats.ttest_ind(sample1, sample2,equal_var=False)\n",
    "        else:\n",
    "            statist,p_value=stats.ttest_ind(sample1, sample2,equal_var=True) \n",
    "    else:\n",
    "        statist,p_value=stats.mannwhitneyu(sample1, sample2)\n",
    "    print(p_value)\n",
    "    if p_value<alpha:\n",
    "        print('Reject H0')\n",
    "    else:\n",
    "        print('Fail to Reject H0')"
   ]
  },
  {
   "cell_type": "code",
   "execution_count": 45,
   "metadata": {},
   "outputs": [
    {
     "name": "stdout",
     "output_type": "stream",
     "text": [
      "0.0922947738393625\n",
      "Fail to Reject H0\n"
     ]
    }
   ],
   "source": [
    "# testing hypothesis\n",
    "\n",
    "testing_average(conversion_control['conversion'],conversion_test['conversion'],alpha=0.05)"
   ]
  },
  {
   "cell_type": "markdown",
   "metadata": {},
   "source": [
    "The function we created above and executed above was meant to compare means of two samples. It checks the normality of both samples with shapiro test. The null hypothesis of this test is that the data is normally distributed. \n",
    "\n",
    "Our result is that the p-value is greater than or equal to alpha, we failed to reject the null hypothesis and concluded that there is not enough evidence to suggest a significant difference between the means of the two samples."
   ]
  },
  {
   "cell_type": "markdown",
   "metadata": {},
   "source": [
    "#### Find the statistical significance of the difference in average order size between the groups using the raw data. Make conclusions and conjectures."
   ]
  },
  {
   "cell_type": "code",
   "execution_count": 46,
   "metadata": {},
   "outputs": [],
   "source": [
    "# creating an average check column\n",
    "\n",
    "conversion_control['avg_ch']=conversion_control['cumul_rev']/conversion_control['buyers']\n",
    "conversion_test['avg_ch']=conversion_test['cumul_rev']/conversion_test['buyers']"
   ]
  },
  {
   "cell_type": "code",
   "execution_count": 47,
   "metadata": {},
   "outputs": [
    {
     "name": "stdout",
     "output_type": "stream",
     "text": [
      "Average check in group A: 285.7940636825247\n",
      "Average check in group B: 250.50611737079598\n"
     ]
    }
   ],
   "source": [
    "# printing mean value of average checks\n",
    "\n",
    "print('Average check in group A:',conversion_control['avg_ch'].mean())\n",
    "print('Average check in group B:',conversion_test['avg_ch'].mean())"
   ]
  },
  {
   "cell_type": "code",
   "execution_count": 48,
   "metadata": {},
   "outputs": [
    {
     "name": "stdout",
     "output_type": "stream",
     "text": [
      "0.0980760730284865\n",
      "Fail to Reject H0\n"
     ]
    }
   ],
   "source": [
    "# testing hypothesis\n",
    "\n",
    "testing_average(conversion_control['avg_ch'],conversion_test['avg_ch'],alpha=0.05)"
   ]
  },
  {
   "cell_type": "markdown",
   "metadata": {},
   "source": [
    "We calculated an average order value for both groups on each day and then compared the mean values. Then we ran it through our function and concluded that there isn't a statistical significannce of the difference in average order size between the groups in raw data. "
   ]
  },
  {
   "cell_type": "markdown",
   "metadata": {},
   "source": [
    "#### Find the statistical significance of the difference in conversion between the groups using the filtered data. Make conclusions and conjectures"
   ]
  },
  {
   "cell_type": "markdown",
   "metadata": {},
   "source": [
    "After doing analysis on the raw data let's take a look at filtered data and compare the results we got at the end."
   ]
  },
  {
   "cell_type": "markdown",
   "metadata": {},
   "source": [
    "##### Total conversion"
   ]
  },
  {
   "cell_type": "code",
   "execution_count": 49,
   "metadata": {},
   "outputs": [
    {
     "data": {
      "text/html": [
       "<div>\n",
       "<style scoped>\n",
       "    .dataframe tbody tr th:only-of-type {\n",
       "        vertical-align: middle;\n",
       "    }\n",
       "\n",
       "    .dataframe tbody tr th {\n",
       "        vertical-align: top;\n",
       "    }\n",
       "\n",
       "    .dataframe thead th {\n",
       "        text-align: right;\n",
       "    }\n",
       "</style>\n",
       "<table border=\"1\" class=\"dataframe\">\n",
       "  <thead>\n",
       "    <tr style=\"text-align: right;\">\n",
       "      <th></th>\n",
       "      <th>date</th>\n",
       "      <th>group</th>\n",
       "      <th>clicks</th>\n",
       "      <th>buyers</th>\n",
       "      <th>conversion</th>\n",
       "    </tr>\n",
       "  </thead>\n",
       "  <tbody>\n",
       "    <tr>\n",
       "      <th>0</th>\n",
       "      <td>2019-08-01</td>\n",
       "      <td>A</td>\n",
       "      <td>719</td>\n",
       "      <td>15</td>\n",
       "      <td>0.020862</td>\n",
       "    </tr>\n",
       "    <tr>\n",
       "      <th>1</th>\n",
       "      <td>2019-08-01</td>\n",
       "      <td>B</td>\n",
       "      <td>713</td>\n",
       "      <td>17</td>\n",
       "      <td>0.023843</td>\n",
       "    </tr>\n",
       "    <tr>\n",
       "      <th>2</th>\n",
       "      <td>2019-08-02</td>\n",
       "      <td>A</td>\n",
       "      <td>619</td>\n",
       "      <td>15</td>\n",
       "      <td>0.024233</td>\n",
       "    </tr>\n",
       "    <tr>\n",
       "      <th>3</th>\n",
       "      <td>2019-08-02</td>\n",
       "      <td>B</td>\n",
       "      <td>581</td>\n",
       "      <td>20</td>\n",
       "      <td>0.034423</td>\n",
       "    </tr>\n",
       "    <tr>\n",
       "      <th>4</th>\n",
       "      <td>2019-08-03</td>\n",
       "      <td>A</td>\n",
       "      <td>507</td>\n",
       "      <td>24</td>\n",
       "      <td>0.047337</td>\n",
       "    </tr>\n",
       "  </tbody>\n",
       "</table>\n",
       "</div>"
      ],
      "text/plain": [
       "        date group  clicks  buyers  conversion\n",
       "0 2019-08-01     A     719      15    0.020862\n",
       "1 2019-08-01     B     713      17    0.023843\n",
       "2 2019-08-02     A     619      15    0.024233\n",
       "3 2019-08-02     B     581      20    0.034423\n",
       "4 2019-08-03     A     507      24    0.047337"
      ]
     },
     "execution_count": 49,
     "metadata": {},
     "output_type": "execute_result"
    }
   ],
   "source": [
    "# calculating clicks\n",
    "\n",
    "clicks = visits.groupby(['date', 'group'])['visits'].sum().reset_index()\n",
    "clicks.rename(columns={'visits': 'clicks'}, inplace=True)\n",
    "\n",
    "# calculating the number of orders per day and group\n",
    "\n",
    "buyers = orders_clean.groupby(['date', 'group'])['transactionid'].nunique().reset_index()\n",
    "buyers.rename(columns={'transactionid': 'buyers'}, inplace=True)\n",
    "\n",
    "# merging the 'clicks' and 'buyers' DataFrames\n",
    "\n",
    "conversion_data_new = pd.merge(clicks, buyers, on=['date', 'group'], how='outer').fillna(0)\n",
    "\n",
    "# calculating conversion rate as the ratio of orders to unique visitors\n",
    "\n",
    "conversion_data_new['conversion'] = conversion_data_new['buyers'] / conversion_data_new['clicks']\n",
    "conversion_data_new.head()"
   ]
  },
  {
   "cell_type": "code",
   "execution_count": 50,
   "metadata": {},
   "outputs": [
    {
     "data": {
      "text/html": [
       "<div>\n",
       "<style scoped>\n",
       "    .dataframe tbody tr th:only-of-type {\n",
       "        vertical-align: middle;\n",
       "    }\n",
       "\n",
       "    .dataframe tbody tr th {\n",
       "        vertical-align: top;\n",
       "    }\n",
       "\n",
       "    .dataframe thead th {\n",
       "        text-align: right;\n",
       "    }\n",
       "</style>\n",
       "<table border=\"1\" class=\"dataframe\">\n",
       "  <thead>\n",
       "    <tr style=\"text-align: right;\">\n",
       "      <th></th>\n",
       "      <th>date</th>\n",
       "      <th>group</th>\n",
       "      <th>clicks</th>\n",
       "      <th>buyers</th>\n",
       "      <th>conversion</th>\n",
       "      <th>cumul_rev</th>\n",
       "    </tr>\n",
       "  </thead>\n",
       "  <tbody>\n",
       "    <tr>\n",
       "      <th>0</th>\n",
       "      <td>2019-08-01</td>\n",
       "      <td>A</td>\n",
       "      <td>719</td>\n",
       "      <td>15</td>\n",
       "      <td>0.020862</td>\n",
       "      <td>2394.6</td>\n",
       "    </tr>\n",
       "    <tr>\n",
       "      <th>1</th>\n",
       "      <td>2019-08-01</td>\n",
       "      <td>B</td>\n",
       "      <td>713</td>\n",
       "      <td>17</td>\n",
       "      <td>0.023843</td>\n",
       "      <td>2394.6</td>\n",
       "    </tr>\n",
       "    <tr>\n",
       "      <th>2</th>\n",
       "      <td>2019-08-02</td>\n",
       "      <td>A</td>\n",
       "      <td>619</td>\n",
       "      <td>15</td>\n",
       "      <td>0.024233</td>\n",
       "      <td>3194.5</td>\n",
       "    </tr>\n",
       "    <tr>\n",
       "      <th>3</th>\n",
       "      <td>2019-08-02</td>\n",
       "      <td>B</td>\n",
       "      <td>581</td>\n",
       "      <td>20</td>\n",
       "      <td>0.034423</td>\n",
       "      <td>3194.5</td>\n",
       "    </tr>\n",
       "    <tr>\n",
       "      <th>4</th>\n",
       "      <td>2019-08-03</td>\n",
       "      <td>A</td>\n",
       "      <td>507</td>\n",
       "      <td>24</td>\n",
       "      <td>0.047337</td>\n",
       "      <td>2886.8</td>\n",
       "    </tr>\n",
       "  </tbody>\n",
       "</table>\n",
       "</div>"
      ],
      "text/plain": [
       "        date group  clicks  buyers  conversion  cumul_rev\n",
       "0 2019-08-01     A     719      15    0.020862     2394.6\n",
       "1 2019-08-01     B     713      17    0.023843     2394.6\n",
       "2 2019-08-02     A     619      15    0.024233     3194.5\n",
       "3 2019-08-02     B     581      20    0.034423     3194.5\n",
       "4 2019-08-03     A     507      24    0.047337     2886.8"
      ]
     },
     "execution_count": 50,
     "metadata": {},
     "output_type": "execute_result"
    }
   ],
   "source": [
    "# calculating sum of revenue for control group\n",
    "\n",
    "control_sum_new = control_clean.groupby('date')['revenue'].sum().reset_index()\n",
    "control_sum_new.rename(columns={'revenue': 'control_revenue'}, inplace=True)\n",
    "\n",
    "# calculating sum of revenue for test group \n",
    "\n",
    "test_sum_new = test_clean.groupby('date')['revenue'].sum().reset_index()\n",
    "test_sum_new.rename(columns={'revenue': 'test_revenue'}, inplace=True)\n",
    "\n",
    "# merging control and test sum of revenue DataFrames with conversion data \n",
    "\n",
    "conversion_data_new = pd.merge(conversion_data_new, control_sum_new, on='date', how='left')\n",
    "conversion_data_new = pd.merge(conversion_data_new, test_sum_new, on='date', how='left')\n",
    "\n",
    "# filling missing revenue values with 0\n",
    "\n",
    "conversion_data_new['control_revenue'].fillna(0, inplace=True)\n",
    "conversion_data_new['test_revenue'].fillna(0, inplace=True)\n",
    "\n",
    "# calculating cumulative revenue for each day\n",
    "\n",
    "conversion_data_new['cumul_rev'] = conversion_data_new['control_revenue'] + conversion_data_new['test_revenue']\n",
    "\n",
    "# dropping redundant columns\n",
    "\n",
    "conversion_data_new.drop(['control_revenue', 'test_revenue'], axis=1, inplace=True)\n",
    "conversion_data_new.head()"
   ]
  },
  {
   "cell_type": "code",
   "execution_count": 51,
   "metadata": {},
   "outputs": [],
   "source": [
    "# separating conversion data between the groups\n",
    "\n",
    "conversion_control_new = conversion_data_new[conversion_data_new.group=='A']\n",
    "conversion_test_new = conversion_data_new[conversion_data_new.group=='B']"
   ]
  },
  {
   "cell_type": "code",
   "execution_count": 52,
   "metadata": {},
   "outputs": [
    {
     "name": "stdout",
     "output_type": "stream",
     "text": [
      "Trials: 18736\n",
      "Successes: 557\n"
     ]
    }
   ],
   "source": [
    "# printing total clicks and conversions for control group\n",
    "\n",
    "control_trials_new = conversion_control_new['clicks'].sum()\n",
    "print(\"Trials:\",control_trials)\n",
    "\n",
    "control_successes_new = conversion_control_new['buyers'].sum()\n",
    "print(\"Successes:\",control_successes)"
   ]
  },
  {
   "cell_type": "code",
   "execution_count": 53,
   "metadata": {},
   "outputs": [
    {
     "name": "stdout",
     "output_type": "stream",
     "text": [
      "Trials: 18916\n",
      "Successes: 640\n"
     ]
    }
   ],
   "source": [
    "# printing total clicks and conversions for test group\n",
    "\n",
    "test_trials_new = conversion_test_new['clicks'].sum()\n",
    "print(\"Trials:\",test_trials)\n",
    "\n",
    "test_successes_new = conversion_test_new['buyers'].sum()\n",
    "print(\"Successes:\",test_successes)"
   ]
  },
  {
   "cell_type": "code",
   "execution_count": 54,
   "metadata": {},
   "outputs": [
    {
     "name": "stdout",
     "output_type": "stream",
     "text": [
      "p-value:  0.009384750340914794\n",
      "Reject H0\n"
     ]
    }
   ],
   "source": [
    "# testing hypothesis\n",
    "\n",
    "check_hypothesis(control_successes_new,control_trials_new, test_successes_new,test_trials_new, alpha=0.05)"
   ]
  },
  {
   "cell_type": "markdown",
   "metadata": {},
   "source": [
    "Same as with the raw data we have the results that tell us there is statistical significance of the difference in conversion between the groups, we rejected the null hypothesis in total conversion."
   ]
  },
  {
   "cell_type": "markdown",
   "metadata": {},
   "source": [
    "##### Average daily conversion"
   ]
  },
  {
   "cell_type": "code",
   "execution_count": 55,
   "metadata": {},
   "outputs": [
    {
     "data": {
      "image/png": "[encoded data removed]",
      "text/plain": [
       "<Figure size 1080x432 with 1 Axes>"
      ]
     },
     "metadata": {
      "needs_background": "light"
     },
     "output_type": "display_data"
    }
   ],
   "source": [
    "# plotting histograms for control and test groups\n",
    "\n",
    "plt.hist(conversion_control_new['conversion'], alpha=0.5, label='Control')\n",
    "plt.hist(conversion_test_new['conversion'], alpha=0.5, label='Test')\n",
    "\n",
    "plt.legend(loc='upper right')\n",
    "plt.title(\"Distribution of Conversion Rates\")\n",
    "plt.xlabel(\"Conversion Rate\")\n",
    "plt.ylabel(\"Frequency\")\n",
    "\n",
    "plt.show()"
   ]
  },
  {
   "cell_type": "markdown",
   "metadata": {},
   "source": [
    "It seems that the Test group has higher conversion rates than the Control group for the filtered data."
   ]
  },
  {
   "cell_type": "code",
   "execution_count": 56,
   "metadata": {},
   "outputs": [
    {
     "name": "stdout",
     "output_type": "stream",
     "text": [
      "0.05035667186320238\n",
      "Fail to Reject H0\n"
     ]
    }
   ],
   "source": [
    "# testing hypothesis\n",
    "\n",
    "testing_average(conversion_control_new['conversion'],conversion_test_new['conversion'],alpha=0.05)"
   ]
  },
  {
   "cell_type": "markdown",
   "metadata": {},
   "source": [
    "We also failed to reject the null hypothesis here same as with raw data in daily conversion."
   ]
  },
  {
   "cell_type": "markdown",
   "metadata": {},
   "source": [
    "#### Find the statistical significance of the difference in average order size between the groups using the filtered data. Make conclusions and conjectures."
   ]
  },
  {
   "cell_type": "code",
   "execution_count": 57,
   "metadata": {},
   "outputs": [],
   "source": [
    "conversion_control_new['avg_ch']=conversion_control_new['cumul_rev']/conversion_control_new['buyers']\n",
    "conversion_test_new['avg_ch']=conversion_test_new['cumul_rev']/conversion_test_new['buyers']"
   ]
  },
  {
   "cell_type": "code",
   "execution_count": 58,
   "metadata": {},
   "outputs": [
    {
     "name": "stdout",
     "output_type": "stream",
     "text": [
      "Average check in group A: 303.82584836790096\n",
      "Average check in group B: 247.1623216925669\n"
     ]
    }
   ],
   "source": [
    "print('Average check in group A:',conversion_control_new['avg_ch'].mean())\n",
    "print('Average check in group B:',conversion_test_new['avg_ch'].mean())"
   ]
  },
  {
   "cell_type": "code",
   "execution_count": 59,
   "metadata": {},
   "outputs": [
    {
     "name": "stdout",
     "output_type": "stream",
     "text": [
      "0.05035667186320238\n",
      "Fail to Reject H0\n"
     ]
    }
   ],
   "source": [
    "testing_average(conversion_control_new['conversion'],conversion_test_new['conversion'],alpha=0.05)"
   ]
  },
  {
   "cell_type": "markdown",
   "metadata": {},
   "source": [
    "Once again we have the same outcome on average order size with filtered data as with raw data."
   ]
  },
  {
   "cell_type": "markdown",
   "metadata": {},
   "source": [
    "#### Make a decision based on the test results"
   ]
  },
  {
   "cell_type": "markdown",
   "metadata": {},
   "source": [
    "Overall, the results suggest that while there may be differences in total conversion between the groups based on both raw and filtered data, there are no significant differences in average daily conversion or average order size between the groups in either case.\n",
    "\n",
    "While we do have some differences in our metrics my decision is to **end the test and conclude that there are no significant differences** between the groups. The differences we had were not that significant and I see no value in continuing the test any longer than we already have."
   ]
  }
 ],
 "metadata": {
  "kernelspec": {
   "display_name": "Python 3 (ipykernel)",
   "language": "python",
   "name": "python3"
  },
  "language_info": {
   "codemirror_mode": {
    "name": "ipython",
    "version": 3
   },
   "file_extension": ".py",
   "mimetype": "text/x-python",
   "name": "python",
   "nbconvert_exporter": "python",
   "pygments_lexer": "ipython3",
   "version": "3.9.13"
  },
  "toc": {
   "base_numbering": 1,
   "nav_menu": {},
   "number_sections": true,
   "sideBar": true,
   "skip_h1_title": true,
   "title_cell": "Table of Contents",
   "title_sidebar": "Contents",
   "toc_cell": false,
   "toc_position": {
    "height": "calc(100% - 180px)",
    "left": "10px",
    "top": "150px",
    "width": "439.278px"
   },
   "toc_section_display": true,
   "toc_window_display": true
  }
 },
 "nbformat": 4,
 "nbformat_minor": 2
}
